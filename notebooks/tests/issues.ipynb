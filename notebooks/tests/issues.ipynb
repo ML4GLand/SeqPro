{
 "cells": [
  {
   "attachments": {},
   "cell_type": "markdown",
   "metadata": {},
   "source": [
    "# Issue 1: Reverse complementing a single byte string\n",
    "Date noted: 2023-05-29\n",
    "Date solved"
   ]
  },
  {
   "cell_type": "code",
   "execution_count": 32,
   "metadata": {},
   "outputs": [
    {
     "ename": "ValueError",
     "evalue": "Need a length axis to process an ndarray.",
     "output_type": "error",
     "traceback": [
      "\u001b[0;31m---------------------------------------------------------------------------\u001b[0m",
      "\u001b[0;31mValueError\u001b[0m                                Traceback (most recent call last)",
      "Cell \u001b[0;32mIn[32], line 6\u001b[0m\n\u001b[1;32m      4\u001b[0m seq_bytes \u001b[39m=\u001b[39m sp\u001b[39m.\u001b[39mcast_seqs(seq)\n\u001b[1;32m      5\u001b[0m ohe_seq \u001b[39m=\u001b[39m dna\u001b[39m.\u001b[39mbytes_to_ohe(seq_bytes)\n\u001b[0;32m----> 6\u001b[0m rc_ohe_seq \u001b[39m=\u001b[39m dna\u001b[39m.\u001b[39;49mreverse_complement(ohe_seq, ohe_axis\u001b[39m=\u001b[39;49m\u001b[39m1\u001b[39;49m)\n",
      "File \u001b[0;32m~/projects/ML4GLand/SeqPro/seqpro/_alphabets.py:134\u001b[0m, in \u001b[0;36mNucleotideAlphabet.reverse_complement\u001b[0;34m(self, seqs, length_axis, ohe_axis)\u001b[0m\n\u001b[1;32m    128\u001b[0m \u001b[39mdef\u001b[39;00m \u001b[39mreverse_complement\u001b[39m(\n\u001b[1;32m    129\u001b[0m     \u001b[39mself\u001b[39m,\n\u001b[1;32m    130\u001b[0m     seqs: SeqType,\n\u001b[1;32m    131\u001b[0m     length_axis: Optional[\u001b[39mint\u001b[39m] \u001b[39m=\u001b[39m \u001b[39mNone\u001b[39;00m,\n\u001b[1;32m    132\u001b[0m     ohe_axis: Optional[\u001b[39mint\u001b[39m] \u001b[39m=\u001b[39m \u001b[39mNone\u001b[39;00m,\n\u001b[1;32m    133\u001b[0m ) \u001b[39m-\u001b[39m\u001b[39m>\u001b[39m NDArray[Union[np\u001b[39m.\u001b[39mbytes_, np\u001b[39m.\u001b[39muint8]]:\n\u001b[0;32m--> 134\u001b[0m     _check_axes(seqs, length_axis, ohe_axis)\n\u001b[1;32m    136\u001b[0m     seqs \u001b[39m=\u001b[39m cast_seqs(seqs)\n\u001b[1;32m    138\u001b[0m     \u001b[39mif\u001b[39;00m seqs\u001b[39m.\u001b[39mdtype \u001b[39m==\u001b[39m np\u001b[39m.\u001b[39muint8:  \u001b[39m# OHE\u001b[39;00m\n",
      "File \u001b[0;32m~/projects/ML4GLand/SeqPro/seqpro/_utils.py:60\u001b[0m, in \u001b[0;36m_check_axes\u001b[0;34m(seqs, length_axis, ohe_axis)\u001b[0m\n\u001b[1;32m     58\u001b[0m \u001b[39m# bytes or OHE\u001b[39;00m\n\u001b[1;32m     59\u001b[0m \u001b[39mif\u001b[39;00m length_axis \u001b[39mis\u001b[39;00m \u001b[39mNone\u001b[39;00m \u001b[39mand\u001b[39;00m \u001b[39misinstance\u001b[39m(seqs, np\u001b[39m.\u001b[39mndarray) \u001b[39mand\u001b[39;00m seqs\u001b[39m.\u001b[39mitemsize \u001b[39m==\u001b[39m \u001b[39m1\u001b[39m:\n\u001b[0;32m---> 60\u001b[0m     \u001b[39mraise\u001b[39;00m \u001b[39mValueError\u001b[39;00m(\u001b[39m\"\u001b[39m\u001b[39mNeed a length axis to process an ndarray.\u001b[39m\u001b[39m\"\u001b[39m)\n\u001b[1;32m     62\u001b[0m \u001b[39m# OHE\u001b[39;00m\n\u001b[1;32m     63\u001b[0m \u001b[39mif\u001b[39;00m ohe_axis \u001b[39mis\u001b[39;00m \u001b[39mNone\u001b[39;00m \u001b[39mand\u001b[39;00m \u001b[39misinstance\u001b[39m(seqs, np\u001b[39m.\u001b[39mndarray) \u001b[39mand\u001b[39;00m seqs\u001b[39m.\u001b[39mdtype \u001b[39m==\u001b[39m np\u001b[39m.\u001b[39muint8:\n",
      "\u001b[0;31mValueError\u001b[0m: Need a length axis to process an ndarray."
     ]
    }
   ],
   "source": [
    "import seqpro as sp\n",
    "seq = sp.random_seq(15, alphabet=[\"A\", \"G\", \"C\", \"T\"])\n",
    "dna = sp.ALPHABETS[\"DNA\"]\n",
    "seq_bytes = sp.cast_seqs(seq)\n",
    "ohe_seq = dna.bytes_to_ohe(seq_bytes)\n",
    "rc_ohe_seq = dna.reverse_complement(ohe_seq, ohe_axis=1)"
   ]
  },
  {
   "attachments": {},
   "cell_type": "markdown",
   "metadata": {},
   "source": [
    "# Issue 2: Calculating GC content with normalization\n",
    "Date noted: 2023-05-29\n",
    "Date solved"
   ]
  },
  {
   "cell_type": "code",
   "execution_count": 61,
   "metadata": {},
   "outputs": [
    {
     "name": "stdout",
     "output_type": "stream",
     "text": [
      "(10,) (10, 15, 4)\n",
      "[ 7  9  3 10  7  7  7  9  6 10]\n",
      "[ 7  9  3 10  7  7  7  9  6 10]\n"
     ]
    },
    {
     "ename": "UFuncTypeError",
     "evalue": "Cannot cast ufunc 'divide' output from dtype('float64') to dtype('int64') with casting rule 'same_kind'",
     "output_type": "error",
     "traceback": [
      "\u001b[0;31m---------------------------------------------------------------------------\u001b[0m",
      "\u001b[0;31mUFuncTypeError\u001b[0m                            Traceback (most recent call last)",
      "Cell \u001b[0;32mIn[61], line 7\u001b[0m\n\u001b[1;32m      5\u001b[0m \u001b[39mprint\u001b[39m(sp\u001b[39m.\u001b[39mgc_content(seqs, normalize\u001b[39m=\u001b[39m\u001b[39mFalse\u001b[39;00m))  \u001b[39m# works correctly\u001b[39;00m\n\u001b[1;32m      6\u001b[0m \u001b[39mprint\u001b[39m(sp\u001b[39m.\u001b[39mgc_content(ohe_seqs, normalize\u001b[39m=\u001b[39m\u001b[39mFalse\u001b[39;00m, length_axis\u001b[39m=\u001b[39m\u001b[39m1\u001b[39m, alphabet\u001b[39m=\u001b[39msp\u001b[39m.\u001b[39mALPHABETS[\u001b[39m\"\u001b[39m\u001b[39mDNA\u001b[39m\u001b[39m\"\u001b[39m], ohe_axis\u001b[39m=\u001b[39m\u001b[39m2\u001b[39m))  \u001b[39m# works correctly\u001b[39;00m\n\u001b[0;32m----> 7\u001b[0m gc \u001b[39m=\u001b[39m sp\u001b[39m.\u001b[39;49mgc_content(seqs, normalize\u001b[39m=\u001b[39;49m\u001b[39mTrue\u001b[39;49;00m)\n\u001b[1;32m      8\u001b[0m gc \u001b[39m=\u001b[39m sp\u001b[39m.\u001b[39mgc_content(ohe_seqs, normalize\u001b[39m=\u001b[39m\u001b[39mTrue\u001b[39;00m, length_axis\u001b[39m=\u001b[39m\u001b[39m1\u001b[39m, alphabet\u001b[39m=\u001b[39msp\u001b[39m.\u001b[39mALPHABETS[\u001b[39m\"\u001b[39m\u001b[39mDNA\u001b[39m\u001b[39m\"\u001b[39m], ohe_axis\u001b[39m=\u001b[39m\u001b[39m2\u001b[39m)\n",
      "File \u001b[0;32m~/projects/ML4GLand/SeqPro/seqpro/_analyzers.py:71\u001b[0m, in \u001b[0;36mgc_content\u001b[0;34m(seqs, normalize, length_axis, alphabet, ohe_axis)\u001b[0m\n\u001b[1;32m     68\u001b[0m     gc_content \u001b[39m=\u001b[39m np\u001b[39m.\u001b[39misin(seqs, np\u001b[39m.\u001b[39marray([\u001b[39mb\u001b[39m\u001b[39m\"\u001b[39m\u001b[39mC\u001b[39m\u001b[39m\"\u001b[39m, \u001b[39mb\u001b[39m\u001b[39m\"\u001b[39m\u001b[39mG\u001b[39m\u001b[39m\"\u001b[39m]))\u001b[39m.\u001b[39msum(length_axis)\n\u001b[1;32m     70\u001b[0m \u001b[39mif\u001b[39;00m normalize:\n\u001b[0;32m---> 71\u001b[0m     gc_content \u001b[39m/\u001b[39m\u001b[39m=\u001b[39m seqs\u001b[39m.\u001b[39mshape[length_axis]\n\u001b[1;32m     73\u001b[0m \u001b[39mreturn\u001b[39;00m gc_content\n",
      "\u001b[0;31mUFuncTypeError\u001b[0m: Cannot cast ufunc 'divide' output from dtype('float64') to dtype('int64') with casting rule 'same_kind'"
     ]
    }
   ],
   "source": [
    "import seqpro as sp\n",
    "seqs = sp.random_seqs(10, 15, alphabet=[\"A\", \"G\", \"C\", \"T\"])\n",
    "ohe_seqs = sp.ohe(seqs, alphabet=sp.ALPHABETS[\"DNA\"])\n",
    "print(seqs.shape, ohe_seqs.shape)\n",
    "print(sp.gc_content(seqs, normalize=False))  # works correctly\n",
    "print(sp.gc_content(ohe_seqs, normalize=False, length_axis=1, alphabet=sp.ALPHABETS[\"DNA\"], ohe_axis=2))  # works correctly\n",
    "gc = sp.gc_content(seqs, normalize=True)\n",
    "gc = sp.gc_content(ohe_seqs, normalize=True, length_axis=1, alphabet=sp.ALPHABETS[\"DNA\"], ohe_axis=2)  # same error"
   ]
  },
  {
   "attachments": {},
   "cell_type": "markdown",
   "metadata": {},
   "source": [
    "# Issue 3: Calculating nucleotide content with normalization\n",
    "Date noted: 2023-05-29\n",
    "Date solved"
   ]
  },
  {
   "cell_type": "code",
   "execution_count": 71,
   "metadata": {},
   "outputs": [
    {
     "name": "stdout",
     "output_type": "stream",
     "text": [
      "(10,) (10, 15, 4)\n",
      "[[3 4 5 3]\n",
      " [6 4 3 2]\n",
      " [3 4 2 6]\n",
      " [3 3 4 5]\n",
      " [3 8 1 3]\n",
      " [1 5 5 4]\n",
      " [2 5 3 5]\n",
      " [3 3 3 6]\n",
      " [7 3 3 2]\n",
      " [7 2 2 4]]\n"
     ]
    },
    {
     "ename": "UFuncTypeError",
     "evalue": "Cannot cast ufunc 'divide' output from dtype('float64') to dtype('uint64') with casting rule 'same_kind'",
     "output_type": "error",
     "traceback": [
      "\u001b[0;31m---------------------------------------------------------------------------\u001b[0m",
      "\u001b[0;31mUFuncTypeError\u001b[0m                            Traceback (most recent call last)",
      "Cell \u001b[0;32mIn[71], line 6\u001b[0m\n\u001b[1;32m      4\u001b[0m \u001b[39mprint\u001b[39m(seqs\u001b[39m.\u001b[39mshape, ohe_seqs\u001b[39m.\u001b[39mshape)\n\u001b[1;32m      5\u001b[0m \u001b[39mprint\u001b[39m(sp\u001b[39m.\u001b[39mnucleotide_content(ohe_seqs, normalize\u001b[39m=\u001b[39m\u001b[39mFalse\u001b[39;00m, length_axis\u001b[39m=\u001b[39m\u001b[39m1\u001b[39m))  \u001b[39m# works correctly\u001b[39;00m\n\u001b[0;32m----> 6\u001b[0m \u001b[39mprint\u001b[39m(sp\u001b[39m.\u001b[39;49mnucleotide_content(ohe_seqs, normalize\u001b[39m=\u001b[39;49m\u001b[39mTrue\u001b[39;49;00m, length_axis\u001b[39m=\u001b[39;49m\u001b[39m1\u001b[39;49m))\n",
      "File \u001b[0;32m~/projects/ML4GLand/SeqPro/seqpro/_analyzers.py:116\u001b[0m, in \u001b[0;36mnucleotide_content\u001b[0;34m(seqs, normalize, length_axis, alphabet)\u001b[0m\n\u001b[1;32m    113\u001b[0m         nuc_content[\u001b[39m.\u001b[39m\u001b[39m.\u001b[39m\u001b[39m.\u001b[39m, i] \u001b[39m=\u001b[39m (seqs \u001b[39m==\u001b[39m nuc)\u001b[39m.\u001b[39msum(length_axis)\n\u001b[1;32m    115\u001b[0m \u001b[39mif\u001b[39;00m normalize:\n\u001b[0;32m--> 116\u001b[0m     nuc_content \u001b[39m/\u001b[39m\u001b[39m=\u001b[39m seqs\u001b[39m.\u001b[39mshape[length_axis]\n\u001b[1;32m    118\u001b[0m \u001b[39mreturn\u001b[39;00m nuc_content\n",
      "\u001b[0;31mUFuncTypeError\u001b[0m: Cannot cast ufunc 'divide' output from dtype('float64') to dtype('uint64') with casting rule 'same_kind'"
     ]
    }
   ],
   "source": [
    "import seqpro as sp\n",
    "seqs = sp.random_seqs(10, 15, alphabet=[\"A\", \"G\", \"C\", \"T\"])\n",
    "ohe_seqs = sp.ohe(seqs, alphabet=sp.ALPHABETS[\"DNA\"])\n",
    "print(seqs.shape, ohe_seqs.shape)\n",
    "print(sp.nucleotide_content(ohe_seqs, normalize=False, length_axis=1))  # works correctly\n",
    "print(sp.nucleotide_content(ohe_seqs, normalize=True, length_axis=1))  # same error as above"
   ]
  },
  {
   "attachments": {},
   "cell_type": "markdown",
   "metadata": {},
   "source": [
    "# Issue 4: Calculating nucleotide content without normalization gives a broadcasting error\n",
    "Date noted: 2023-05-29\n",
    "Date solved"
   ]
  },
  {
   "cell_type": "code",
   "execution_count": 72,
   "metadata": {},
   "outputs": [
    {
     "name": "stdout",
     "output_type": "stream",
     "text": [
      "(10,) (10, 15, 4)\n"
     ]
    },
    {
     "ename": "ValueError",
     "evalue": "could not broadcast input array from shape (10,) into shape (10,10,15)",
     "output_type": "error",
     "traceback": [
      "\u001b[0;31m---------------------------------------------------------------------------\u001b[0m",
      "\u001b[0;31mValueError\u001b[0m                                Traceback (most recent call last)",
      "Cell \u001b[0;32mIn[72], line 5\u001b[0m\n\u001b[1;32m      3\u001b[0m ohe_seqs \u001b[39m=\u001b[39m sp\u001b[39m.\u001b[39mohe(seqs, alphabet\u001b[39m=\u001b[39msp\u001b[39m.\u001b[39mALPHABETS[\u001b[39m\"\u001b[39m\u001b[39mDNA\u001b[39m\u001b[39m\"\u001b[39m])\n\u001b[1;32m      4\u001b[0m \u001b[39mprint\u001b[39m(seqs\u001b[39m.\u001b[39mshape, ohe_seqs\u001b[39m.\u001b[39mshape)\n\u001b[0;32m----> 5\u001b[0m \u001b[39mprint\u001b[39m(sp\u001b[39m.\u001b[39;49mnucleotide_content(seqs, normalize\u001b[39m=\u001b[39;49m\u001b[39mFalse\u001b[39;49;00m, alphabet\u001b[39m=\u001b[39;49msp\u001b[39m.\u001b[39;49mALPHABETS[\u001b[39m\"\u001b[39;49m\u001b[39mDNA\u001b[39;49m\u001b[39m\"\u001b[39;49m]))\n",
      "File \u001b[0;32m~/projects/ML4GLand/SeqPro/seqpro/_analyzers.py:113\u001b[0m, in \u001b[0;36mnucleotide_content\u001b[0;34m(seqs, normalize, length_axis, alphabet)\u001b[0m\n\u001b[1;32m    109\u001b[0m     nuc_content \u001b[39m=\u001b[39m np\u001b[39m.\u001b[39mzeros(\n\u001b[1;32m    110\u001b[0m         (\u001b[39m*\u001b[39mseqs\u001b[39m.\u001b[39mshape[:length_axis], \u001b[39m*\u001b[39mseqs\u001b[39m.\u001b[39mshape[length_axis \u001b[39m+\u001b[39m \u001b[39m1\u001b[39m :], \u001b[39mlen\u001b[39m(alphabet))\n\u001b[1;32m    111\u001b[0m     )\n\u001b[1;32m    112\u001b[0m     \u001b[39mfor\u001b[39;00m i, nuc \u001b[39min\u001b[39;00m \u001b[39menumerate\u001b[39m(alphabet\u001b[39m.\u001b[39marray):\n\u001b[0;32m--> 113\u001b[0m         nuc_content[\u001b[39m.\u001b[39m\u001b[39m.\u001b[39m\u001b[39m.\u001b[39m, i] \u001b[39m=\u001b[39m (seqs \u001b[39m==\u001b[39m nuc)\u001b[39m.\u001b[39msum(length_axis)\n\u001b[1;32m    115\u001b[0m \u001b[39mif\u001b[39;00m normalize:\n\u001b[1;32m    116\u001b[0m     nuc_content \u001b[39m/\u001b[39m\u001b[39m=\u001b[39m seqs\u001b[39m.\u001b[39mshape[length_axis]\n",
      "\u001b[0;31mValueError\u001b[0m: could not broadcast input array from shape (10,) into shape (10,10,15)"
     ]
    }
   ],
   "source": [
    "import seqpro as sp\n",
    "seqs = sp.random_seqs(10, 15, alphabet=[\"A\", \"G\", \"C\", \"T\"])\n",
    "ohe_seqs = sp.ohe(seqs, alphabet=sp.ALPHABETS[\"DNA\"])\n",
    "print(seqs.shape, ohe_seqs.shape)\n",
    "print(sp.nucleotide_content(seqs, normalize=False, alphabet=sp.ALPHABETS[\"DNA\"]))  # works correctly"
   ]
  },
  {
   "attachments": {},
   "cell_type": "markdown",
   "metadata": {},
   "source": [
    "# Issue 5: count_kmers_seq TypeError\n",
    "I don't think the logic of this function is correct. See step-by-step with print statements\n",
    "Date noted: 2023-05-29\n",
    "Date solved"
   ]
  },
  {
   "cell_type": "code",
   "execution_count": 74,
   "metadata": {},
   "outputs": [
    {
     "ename": "TypeError",
     "evalue": "sequence item 0: expected a bytes-like object, int found",
     "output_type": "error",
     "traceback": [
      "\u001b[0;31m---------------------------------------------------------------------------\u001b[0m",
      "\u001b[0;31mTypeError\u001b[0m                                 Traceback (most recent call last)",
      "Cell \u001b[0;32mIn[74], line 3\u001b[0m\n\u001b[1;32m      1\u001b[0m \u001b[39mimport\u001b[39;00m \u001b[39mseqpro\u001b[39;00m \u001b[39mas\u001b[39;00m \u001b[39msp\u001b[39;00m\n\u001b[1;32m      2\u001b[0m seq \u001b[39m=\u001b[39m sp\u001b[39m.\u001b[39mrandom_seq(\u001b[39m15\u001b[39m, alphabet\u001b[39m=\u001b[39m[\u001b[39m\"\u001b[39m\u001b[39mA\u001b[39m\u001b[39m\"\u001b[39m, \u001b[39m\"\u001b[39m\u001b[39mG\u001b[39m\u001b[39m\"\u001b[39m, \u001b[39m\"\u001b[39m\u001b[39mC\u001b[39m\u001b[39m\"\u001b[39m, \u001b[39m\"\u001b[39m\u001b[39mT\u001b[39m\u001b[39m\"\u001b[39m])\n\u001b[0;32m----> 3\u001b[0m kmers \u001b[39m=\u001b[39m sp\u001b[39m.\u001b[39;49m_analyzers\u001b[39m.\u001b[39;49mcount_kmers_seq(seq, k\u001b[39m=\u001b[39;49m\u001b[39m3\u001b[39;49m)\n",
      "File \u001b[0;32m~/projects/ML4GLand/SeqPro/seqpro/_analyzers.py:143\u001b[0m, in \u001b[0;36mcount_kmers_seq\u001b[0;34m(seq, k)\u001b[0m\n\u001b[1;32m    141\u001b[0m kmers, counts \u001b[39m=\u001b[39m np\u001b[39m.\u001b[39munique(kmers, return_counts\u001b[39m=\u001b[39m\u001b[39mTrue\u001b[39;00m)\n\u001b[1;32m    142\u001b[0m kmers \u001b[39m=\u001b[39m (\u001b[39mb\u001b[39m\u001b[39m\"\u001b[39m\u001b[39m\"\u001b[39m\u001b[39m.\u001b[39mjoin(kmer)\u001b[39m.\u001b[39mdecode(\u001b[39m\"\u001b[39m\u001b[39mascii\u001b[39m\u001b[39m\"\u001b[39m) \u001b[39mfor\u001b[39;00m kmer \u001b[39min\u001b[39;00m kmers)\n\u001b[0;32m--> 143\u001b[0m out \u001b[39m=\u001b[39m \u001b[39mdict\u001b[39;49m(\u001b[39mzip\u001b[39;49m(kmers, counts))\n\u001b[1;32m    145\u001b[0m \u001b[39mreturn\u001b[39;00m out\n",
      "File \u001b[0;32m~/projects/ML4GLand/SeqPro/seqpro/_analyzers.py:142\u001b[0m, in \u001b[0;36m<genexpr>\u001b[0;34m(.0)\u001b[0m\n\u001b[1;32m    140\u001b[0m kmers \u001b[39m=\u001b[39m np\u001b[39m.\u001b[39mlib\u001b[39m.\u001b[39mstride_tricks\u001b[39m.\u001b[39msliding_window_view(_seq, k)\n\u001b[1;32m    141\u001b[0m kmers, counts \u001b[39m=\u001b[39m np\u001b[39m.\u001b[39munique(kmers, return_counts\u001b[39m=\u001b[39m\u001b[39mTrue\u001b[39;00m)\n\u001b[0;32m--> 142\u001b[0m kmers \u001b[39m=\u001b[39m (\u001b[39mb\u001b[39;49m\u001b[39m\"\u001b[39;49m\u001b[39m\"\u001b[39;49m\u001b[39m.\u001b[39;49mjoin(kmer)\u001b[39m.\u001b[39mdecode(\u001b[39m\"\u001b[39m\u001b[39mascii\u001b[39m\u001b[39m\"\u001b[39m) \u001b[39mfor\u001b[39;00m kmer \u001b[39min\u001b[39;00m kmers)\n\u001b[1;32m    143\u001b[0m out \u001b[39m=\u001b[39m \u001b[39mdict\u001b[39m(\u001b[39mzip\u001b[39m(kmers, counts))\n\u001b[1;32m    145\u001b[0m \u001b[39mreturn\u001b[39;00m out\n",
      "\u001b[0;31mTypeError\u001b[0m: sequence item 0: expected a bytes-like object, int found"
     ]
    }
   ],
   "source": [
    "import seqpro as sp\n",
    "seq = sp.random_seq(15, alphabet=[\"A\", \"G\", \"C\", \"T\"])\n",
    "kmers = sp._analyzers.count_kmers_seq(seq, k=3)"
   ]
  },
  {
   "cell_type": "code",
   "execution_count": 112,
   "metadata": {},
   "outputs": [
    {
     "name": "stdout",
     "output_type": "stream",
     "text": [
      "[[b'A' b'A' b'G']\n",
      " [b'A' b'G' b'G']\n",
      " [b'G' b'G' b'A']\n",
      " [b'G' b'A' b'C']\n",
      " [b'A' b'C' b'C']\n",
      " [b'C' b'C' b'G']\n",
      " [b'C' b'G' b'G']\n",
      " [b'G' b'G' b'T']\n",
      " [b'G' b'T' b'G']\n",
      " [b'T' b'G' b'C']\n",
      " [b'G' b'C' b'G']\n",
      " [b'C' b'G' b'G']\n",
      " [b'G' b'G' b'C']\n",
      " [b'G' b'C' b'T']\n",
      " [b'C' b'T' b'C']\n",
      " [b'T' b'C' b'C']\n",
      " [b'C' b'C' b'T']\n",
      " [b'C' b'T' b'A']\n",
      " [b'T' b'A' b'T']\n",
      " [b'A' b'T' b'C']\n",
      " [b'T' b'C' b'G']\n",
      " [b'C' b'G' b'A']\n",
      " [b'G' b'A' b'A']\n",
      " [b'A' b'A' b'C']\n",
      " [b'A' b'C' b'A']\n",
      " [b'C' b'A' b'A']\n",
      " [b'A' b'A' b'T']\n",
      " [b'A' b'T' b'C']\n",
      " [b'T' b'C' b'C']\n",
      " [b'C' b'C' b'A']\n",
      " [b'C' b'A' b'G']\n",
      " [b'A' b'G' b'G']\n",
      " [b'G' b'G' b'C']\n",
      " [b'G' b'C' b'T']\n",
      " [b'C' b'T' b'G']\n",
      " [b'T' b'G' b'A']\n",
      " [b'G' b'A' b'C']\n",
      " [b'A' b'C' b'G']\n",
      " [b'C' b'G' b'G']\n",
      " [b'G' b'G' b'T']\n",
      " [b'G' b'T' b'C']\n",
      " [b'T' b'C' b'T']\n",
      " [b'C' b'T' b'A']\n",
      " [b'T' b'A' b'C']\n",
      " [b'A' b'C' b'A']\n",
      " [b'C' b'A' b'C']\n",
      " [b'A' b'C' b'G']\n",
      " [b'C' b'G' b'G']\n",
      " [b'G' b'G' b'G']\n",
      " [b'G' b'G' b'A']\n",
      " [b'G' b'A' b'A']\n",
      " [b'A' b'A' b'C']\n",
      " [b'A' b'C' b'G']\n",
      " [b'C' b'G' b'A']\n",
      " [b'G' b'A' b'A']\n",
      " [b'A' b'A' b'T']\n",
      " [b'A' b'T' b'A']\n",
      " [b'T' b'A' b'G']\n",
      " [b'A' b'G' b'A']\n",
      " [b'G' b'A' b'G']\n",
      " [b'A' b'G' b'G']\n",
      " [b'G' b'G' b'G']\n",
      " [b'G' b'G' b'A']\n",
      " [b'G' b'A' b'C']\n",
      " [b'A' b'C' b'A']\n",
      " [b'C' b'A' b'A']\n",
      " [b'A' b'A' b'C']\n",
      " [b'A' b'C' b'A']\n",
      " [b'C' b'A' b'T']\n",
      " [b'A' b'T' b'A']\n",
      " [b'T' b'A' b'C']\n",
      " [b'A' b'C' b'T']\n",
      " [b'C' b'T' b'C']\n",
      " [b'T' b'C' b'C']\n",
      " [b'C' b'C' b'A']\n",
      " [b'C' b'A' b'A']\n",
      " [b'A' b'A' b'A']\n",
      " [b'A' b'A' b'C']\n",
      " [b'A' b'C' b'A']\n",
      " [b'C' b'A' b'T']\n",
      " [b'A' b'T' b'C']\n",
      " [b'T' b'C' b'T']\n",
      " [b'C' b'T' b'C']\n",
      " [b'T' b'C' b'G']\n",
      " [b'C' b'G' b'A']\n",
      " [b'G' b'A' b'T']\n",
      " [b'A' b'T' b'A']\n",
      " [b'T' b'A' b'T']\n",
      " [b'A' b'T' b'G']\n",
      " [b'T' b'G' b'C']\n",
      " [b'G' b'C' b'G']\n",
      " [b'C' b'G' b'C']\n",
      " [b'G' b'C' b'G']\n",
      " [b'C' b'G' b'A']\n",
      " [b'G' b'A' b'G']\n",
      " [b'A' b'G' b'A']\n",
      " [b'G' b'A' b'T']\n",
      " [b'A' b'T' b'C']]\n"
     ]
    },
    {
     "data": {
      "text/plain": [
       "(array([b'A', b'C', b'G', b'T'], dtype='|S1'), array([90, 79, 78, 47]))"
      ]
     },
     "execution_count": 112,
     "metadata": {},
     "output_type": "execute_result"
    }
   ],
   "source": [
    "import numpy as np\n",
    "import seqpro as sp\n",
    "seq = sp.random_seq(100, alphabet=[\"A\", \"G\", \"C\", \"T\"])\n",
    "k = 3\n",
    "assert len(seq) >= k, \"Length of seq must be greater than that of k.\"\n",
    "_seq = np.array([seq], \"S\").view(\"S1\")\n",
    "kmers = np.lib.stride_tricks.sliding_window_view(_seq, k)\n",
    "print(kmers)  # this makes a lot of sense if this is just getting \n",
    "kmers = np.unique(kmers, return_counts=True)  # this is just going to count unique single bytes\n",
    "kmers"
   ]
  },
  {
   "cell_type": "code",
   "execution_count": 113,
   "metadata": {},
   "outputs": [
    {
     "name": "stdout",
     "output_type": "stream",
     "text": [
      "[[b'A' b'A' b'G']\n",
      " [b'A' b'G' b'G']\n",
      " [b'G' b'G' b'A']\n",
      " [b'G' b'A' b'C']\n",
      " [b'A' b'C' b'C']\n",
      " [b'C' b'C' b'G']\n",
      " [b'C' b'G' b'G']\n",
      " [b'G' b'G' b'T']\n",
      " [b'G' b'T' b'G']\n",
      " [b'T' b'G' b'C']\n",
      " [b'G' b'C' b'G']\n",
      " [b'C' b'G' b'G']\n",
      " [b'G' b'G' b'C']\n",
      " [b'G' b'C' b'T']\n",
      " [b'C' b'T' b'C']\n",
      " [b'T' b'C' b'C']\n",
      " [b'C' b'C' b'T']\n",
      " [b'C' b'T' b'A']\n",
      " [b'T' b'A' b'T']\n",
      " [b'A' b'T' b'C']\n",
      " [b'T' b'C' b'G']\n",
      " [b'C' b'G' b'A']\n",
      " [b'G' b'A' b'A']\n",
      " [b'A' b'A' b'C']\n",
      " [b'A' b'C' b'A']\n",
      " [b'C' b'A' b'A']\n",
      " [b'A' b'A' b'T']\n",
      " [b'A' b'T' b'C']\n",
      " [b'T' b'C' b'C']\n",
      " [b'C' b'C' b'A']\n",
      " [b'C' b'A' b'G']\n",
      " [b'A' b'G' b'G']\n",
      " [b'G' b'G' b'C']\n",
      " [b'G' b'C' b'T']\n",
      " [b'C' b'T' b'G']\n",
      " [b'T' b'G' b'A']\n",
      " [b'G' b'A' b'C']\n",
      " [b'A' b'C' b'G']\n",
      " [b'C' b'G' b'G']\n",
      " [b'G' b'G' b'T']\n",
      " [b'G' b'T' b'C']\n",
      " [b'T' b'C' b'T']\n",
      " [b'C' b'T' b'A']\n",
      " [b'T' b'A' b'C']\n",
      " [b'A' b'C' b'A']\n",
      " [b'C' b'A' b'C']\n",
      " [b'A' b'C' b'G']\n",
      " [b'C' b'G' b'G']\n",
      " [b'G' b'G' b'G']\n",
      " [b'G' b'G' b'A']\n",
      " [b'G' b'A' b'A']\n",
      " [b'A' b'A' b'C']\n",
      " [b'A' b'C' b'G']\n",
      " [b'C' b'G' b'A']\n",
      " [b'G' b'A' b'A']\n",
      " [b'A' b'A' b'T']\n",
      " [b'A' b'T' b'A']\n",
      " [b'T' b'A' b'G']\n",
      " [b'A' b'G' b'A']\n",
      " [b'G' b'A' b'G']\n",
      " [b'A' b'G' b'G']\n",
      " [b'G' b'G' b'G']\n",
      " [b'G' b'G' b'A']\n",
      " [b'G' b'A' b'C']\n",
      " [b'A' b'C' b'A']\n",
      " [b'C' b'A' b'A']\n",
      " [b'A' b'A' b'C']\n",
      " [b'A' b'C' b'A']\n",
      " [b'C' b'A' b'T']\n",
      " [b'A' b'T' b'A']\n",
      " [b'T' b'A' b'C']\n",
      " [b'A' b'C' b'T']\n",
      " [b'C' b'T' b'C']\n",
      " [b'T' b'C' b'C']\n",
      " [b'C' b'C' b'A']\n",
      " [b'C' b'A' b'A']\n",
      " [b'A' b'A' b'A']\n",
      " [b'A' b'A' b'C']\n",
      " [b'A' b'C' b'A']\n",
      " [b'C' b'A' b'T']\n",
      " [b'A' b'T' b'C']\n",
      " [b'T' b'C' b'T']\n",
      " [b'C' b'T' b'C']\n",
      " [b'T' b'C' b'G']\n",
      " [b'C' b'G' b'A']\n",
      " [b'G' b'A' b'T']\n",
      " [b'A' b'T' b'A']\n",
      " [b'T' b'A' b'T']\n",
      " [b'A' b'T' b'G']\n",
      " [b'T' b'G' b'C']\n",
      " [b'G' b'C' b'G']\n",
      " [b'C' b'G' b'C']\n",
      " [b'G' b'C' b'G']\n",
      " [b'C' b'G' b'A']\n",
      " [b'G' b'A' b'G']\n",
      " [b'A' b'G' b'A']\n",
      " [b'G' b'A' b'T']\n",
      " [b'A' b'T' b'C']]\n",
      "['AAG' 'AGG' 'GGA' 'GAC' 'ACC' 'CCG' 'CGG' 'GGT' 'GTG' 'TGC' 'GCG' 'CGG'\n",
      " 'GGC' 'GCT' 'CTC' 'TCC' 'CCT' 'CTA' 'TAT' 'ATC' 'TCG' 'CGA' 'GAA' 'AAC'\n",
      " 'ACA' 'CAA' 'AAT' 'ATC' 'TCC' 'CCA' 'CAG' 'AGG' 'GGC' 'GCT' 'CTG' 'TGA'\n",
      " 'GAC' 'ACG' 'CGG' 'GGT' 'GTC' 'TCT' 'CTA' 'TAC' 'ACA' 'CAC' 'ACG' 'CGG'\n",
      " 'GGG' 'GGA' 'GAA' 'AAC' 'ACG' 'CGA' 'GAA' 'AAT' 'ATA' 'TAG' 'AGA' 'GAG'\n",
      " 'AGG' 'GGG' 'GGA' 'GAC' 'ACA' 'CAA' 'AAC' 'ACA' 'CAT' 'ATA' 'TAC' 'ACT'\n",
      " 'CTC' 'TCC' 'CCA' 'CAA' 'AAA' 'AAC' 'ACA' 'CAT' 'ATC' 'TCT' 'CTC' 'TCG'\n",
      " 'CGA' 'GAT' 'ATA' 'TAT' 'ATG' 'TGC' 'GCG' 'CGC' 'GCG' 'CGA' 'GAG' 'AGA'\n",
      " 'GAT' 'ATC']\n"
     ]
    },
    {
     "data": {
      "text/plain": [
       "(array(['AAA', 'AAC', 'AAG', 'AAT', 'ACA', 'ACC', 'ACG', 'ACT', 'AGA',\n",
       "        'AGG', 'ATA', 'ATC', 'ATG', 'CAA', 'CAC', 'CAG', 'CAT', 'CCA',\n",
       "        'CCG', 'CCT', 'CGA', 'CGC', 'CGG', 'CTA', 'CTC', 'CTG', 'GAA',\n",
       "        'GAC', 'GAG', 'GAT', 'GCG', 'GCT', 'GGA', 'GGC', 'GGG', 'GGT',\n",
       "        'GTC', 'GTG', 'TAC', 'TAG', 'TAT', 'TCC', 'TCG', 'TCT', 'TGA',\n",
       "        'TGC'], dtype='<U3'),\n",
       " array([1, 4, 1, 2, 5, 1, 3, 1, 2, 3, 3, 4, 1, 3, 1, 1, 2, 2, 1, 1, 4, 1,\n",
       "        4, 2, 3, 1, 3, 3, 2, 2, 3, 2, 3, 2, 2, 2, 1, 1, 2, 1, 2, 3, 2, 2,\n",
       "        1, 2]))"
      ]
     },
     "execution_count": 113,
     "metadata": {},
     "output_type": "execute_result"
    }
   ],
   "source": [
    "_seq = np.array([seq], \"S\").view(\"S1\")\n",
    "kmers = np.lib.stride_tricks.sliding_window_view(_seq, k)\n",
    "print(kmers)  # this makes a lot of sense if this is just getting \n",
    "kmers = np.array([b\"\".join(kmer).decode(\"ascii\") for kmer in kmers])  # if we join the kmers first I think it should work, but might be slow?\n",
    "print(kmers)\n",
    "kmers, counts = np.unique(kmers, return_counts=True)\n",
    "kmers, counts"
   ]
  },
  {
   "attachments": {},
   "cell_type": "markdown",
   "metadata": {},
   "source": [
    "# Issue 6: `k_shuffle` with ohe sequences that are padded\n",
    "I think this is because the function looks along the sequence length for non-zero positions, which for padded sequences won't exist where padding has occured\n",
    "Date noted: 2023-05-29\n",
    "Date solved"
   ]
  },
  {
   "cell_type": "code",
   "execution_count": 116,
   "metadata": {},
   "outputs": [
    {
     "name": "stdout",
     "output_type": "stream",
     "text": [
      "(20,) (20, 20, 4)\n"
     ]
    },
    {
     "ename": "ValueError",
     "evalue": "cannot reshape array of size 350 into shape (20,20)",
     "output_type": "error",
     "traceback": [
      "\u001b[0;31m---------------------------------------------------------------------------\u001b[0m",
      "\u001b[0;31mValueError\u001b[0m                                Traceback (most recent call last)",
      "Cell \u001b[0;32mIn[116], line 8\u001b[0m\n\u001b[1;32m      6\u001b[0m ohe_seqs \u001b[39m=\u001b[39m sp\u001b[39m.\u001b[39mohe(seqs, alphabet\u001b[39m=\u001b[39msp\u001b[39m.\u001b[39mALPHABETS[\u001b[39m\"\u001b[39m\u001b[39mDNA\u001b[39m\u001b[39m\"\u001b[39m])\n\u001b[1;32m      7\u001b[0m \u001b[39mprint\u001b[39m(seqs\u001b[39m.\u001b[39mshape, ohe_seqs\u001b[39m.\u001b[39mshape)\n\u001b[0;32m----> 8\u001b[0m sp\u001b[39m.\u001b[39;49mk_shuffle(ohe_seqs, k\u001b[39m=\u001b[39;49m\u001b[39m3\u001b[39;49m, length_axis\u001b[39m=\u001b[39;49m\u001b[39m1\u001b[39;49m, alphabet\u001b[39m=\u001b[39;49msp\u001b[39m.\u001b[39;49mALPHABETS[\u001b[39m\"\u001b[39;49m\u001b[39mDNA\u001b[39;49m\u001b[39m\"\u001b[39;49m])\n",
      "File \u001b[0;32m~/projects/ML4GLand/SeqPro/seqpro/_modifiers.py:67\u001b[0m, in \u001b[0;36mk_shuffle\u001b[0;34m(seqs, k, length_axis, seed, alphabet)\u001b[0m\n\u001b[1;32m     65\u001b[0m     \u001b[39mif\u001b[39;00m alphabet \u001b[39mis\u001b[39;00m \u001b[39mNone\u001b[39;00m:\n\u001b[1;32m     66\u001b[0m         \u001b[39mraise\u001b[39;00m \u001b[39mValueError\u001b[39;00m(\u001b[39m\"\u001b[39m\u001b[39mNeed an alphabet to process OHE sequences.\u001b[39m\u001b[39m\"\u001b[39m)\n\u001b[0;32m---> 67\u001b[0m     seqs \u001b[39m=\u001b[39m alphabet\u001b[39m.\u001b[39;49mohe_to_bytes(seqs)\n\u001b[1;32m     68\u001b[0m \u001b[39melse\u001b[39;00m:\n\u001b[1;32m     69\u001b[0m     ohe \u001b[39m=\u001b[39m \u001b[39mFalse\u001b[39;00m\n",
      "File \u001b[0;32m~/projects/ML4GLand/SeqPro/seqpro/_alphabets.py:88\u001b[0m, in \u001b[0;36mNucleotideAlphabet.ohe_to_bytes\u001b[0;34m(self, ohe_arr, ohe_axis)\u001b[0m\n\u001b[1;32m     86\u001b[0m     ohe_axis_idx \u001b[39m=\u001b[39m ohe_axis\n\u001b[1;32m     87\u001b[0m shape \u001b[39m=\u001b[39m \u001b[39m*\u001b[39mohe_arr\u001b[39m.\u001b[39mshape[:ohe_axis_idx], \u001b[39m*\u001b[39mohe_arr\u001b[39m.\u001b[39mshape[ohe_axis_idx \u001b[39m+\u001b[39m \u001b[39m1\u001b[39m :]\n\u001b[0;32m---> 88\u001b[0m \u001b[39mreturn\u001b[39;00m \u001b[39mself\u001b[39;49m\u001b[39m.\u001b[39;49marray[idx]\u001b[39m.\u001b[39;49mreshape(shape)\n",
      "\u001b[0;31mValueError\u001b[0m: cannot reshape array of size 350 into shape (20,20)"
     ]
    }
   ],
   "source": [
    "import seqpro as sp\n",
    "import numpy as np\n",
    "short_seqs = sp.random_seqs(10, 15, alphabet=[\"A\", \"G\", \"C\", \"T\"])\n",
    "longer_seqs = sp.random_seqs(10, 20, alphabet=[\"A\", \"G\", \"C\", \"T\"])\n",
    "seqs = np.concatenate([short_seqs, longer_seqs], axis=0)\n",
    "ohe_seqs = sp.ohe(seqs, alphabet=sp.ALPHABETS[\"DNA\"])\n",
    "print(seqs.shape, ohe_seqs.shape)\n",
    "sp.k_shuffle(ohe_seqs, k=3, length_axis=1, alphabet=sp.ALPHABETS[\"DNA\"])"
   ]
  },
  {
   "attachments": {},
   "cell_type": "markdown",
   "metadata": {},
   "source": [
    "# Issue 7: `k_shuffle` with `length_axis` = 0 for single one-hot encoded sequence\n",
    "Ran into an error here when working with a single sequence of shape (L, A) and passing in False to for the ohe_axis. This is the default behavior for the k_shuffle function defined below. If I pass in length_axis as 0. This function returns an error saying that Length and OHE axis must be different. only because 0 == False returns True"
   ]
  },
  {
   "cell_type": "code",
   "execution_count": 7,
   "metadata": {},
   "outputs": [
    {
     "name": "stdout",
     "output_type": "stream",
     "text": [
      "CACAGTTGGCTACCC (15, 4)\n"
     ]
    },
    {
     "ename": "ValueError",
     "evalue": "Length and OHE axis must be different.",
     "output_type": "error",
     "traceback": [
      "\u001b[0;31m---------------------------------------------------------------------------\u001b[0m",
      "\u001b[0;31mValueError\u001b[0m                                Traceback (most recent call last)",
      "Cell \u001b[0;32mIn[7], line 6\u001b[0m\n\u001b[1;32m      4\u001b[0m ohe_seq \u001b[39m=\u001b[39m sp\u001b[39m.\u001b[39mohe(seq, alphabet\u001b[39m=\u001b[39msp\u001b[39m.\u001b[39mALPHABETS[\u001b[39m\"\u001b[39m\u001b[39mDNA\u001b[39m\u001b[39m\"\u001b[39m])\n\u001b[1;32m      5\u001b[0m \u001b[39mprint\u001b[39m(seq, ohe_seq\u001b[39m.\u001b[39mshape)\n\u001b[0;32m----> 6\u001b[0m sp\u001b[39m.\u001b[39;49mk_shuffle(ohe_seq, k\u001b[39m=\u001b[39;49m\u001b[39m3\u001b[39;49m, length_axis\u001b[39m=\u001b[39;49m\u001b[39m0\u001b[39;49m, alphabet\u001b[39m=\u001b[39;49msp\u001b[39m.\u001b[39;49mALPHABETS[\u001b[39m\"\u001b[39;49m\u001b[39mDNA\u001b[39;49m\u001b[39m\"\u001b[39;49m])\n",
      "File \u001b[0;32m~/projects/ML4GLand/SeqPro/seqpro/_modifiers.py:42\u001b[0m, in \u001b[0;36mk_shuffle\u001b[0;34m(seqs, k, length_axis, seed, alphabet)\u001b[0m\n\u001b[1;32m     20\u001b[0m \u001b[39mdef\u001b[39;00m \u001b[39mk_shuffle\u001b[39m(\n\u001b[1;32m     21\u001b[0m     seqs: SeqType,\n\u001b[1;32m     22\u001b[0m     k: \u001b[39mint\u001b[39m,\n\u001b[0;32m   (...)\u001b[0m\n\u001b[1;32m     25\u001b[0m     alphabet: Optional[NucleotideAlphabet] \u001b[39m=\u001b[39m \u001b[39mNone\u001b[39;00m,\n\u001b[1;32m     26\u001b[0m ):\n\u001b[1;32m     27\u001b[0m     \u001b[39m\"\"\"Shuffle sequences while preserving k-let frequencies.\u001b[39;00m\n\u001b[1;32m     28\u001b[0m \n\u001b[1;32m     29\u001b[0m \u001b[39m    Parameters\u001b[39;00m\n\u001b[0;32m   (...)\u001b[0m\n\u001b[1;32m     39\u001b[0m \u001b[39m        Alphabet, needed for OHE sequence input.\u001b[39;00m\n\u001b[1;32m     40\u001b[0m \u001b[39m    \"\"\"\u001b[39;00m\n\u001b[0;32m---> 42\u001b[0m     _check_axes(seqs, length_axis, \u001b[39mFalse\u001b[39;49;00m)\n\u001b[1;32m     44\u001b[0m     seqs \u001b[39m=\u001b[39m cast_seqs(seqs)\n\u001b[1;32m     46\u001b[0m     \u001b[39m# only get here if seqs was str or list[str]\u001b[39;00m\n",
      "File \u001b[0;32m~/projects/ML4GLand/SeqPro/seqpro/_utils.py:68\u001b[0m, in \u001b[0;36m_check_axes\u001b[0;34m(seqs, length_axis, ohe_axis)\u001b[0m\n\u001b[1;32m     66\u001b[0m \u001b[39m# length_axis != ohe_axis\u001b[39;00m\n\u001b[1;32m     67\u001b[0m \u001b[39mif\u001b[39;00m length_axis \u001b[39mis\u001b[39;00m \u001b[39mnot\u001b[39;00m \u001b[39mNone\u001b[39;00m \u001b[39mand\u001b[39;00m ohe_axis \u001b[39mis\u001b[39;00m \u001b[39mnot\u001b[39;00m \u001b[39mNone\u001b[39;00m \u001b[39mand\u001b[39;00m (length_axis \u001b[39m==\u001b[39m ohe_axis):\n\u001b[0;32m---> 68\u001b[0m     \u001b[39mraise\u001b[39;00m \u001b[39mValueError\u001b[39;00m(\u001b[39m\"\u001b[39m\u001b[39mLength and OHE axis must be different.\u001b[39m\u001b[39m\"\u001b[39m)\n",
      "\u001b[0;31mValueError\u001b[0m: Length and OHE axis must be different."
     ]
    }
   ],
   "source": [
    "import seqpro as sp\n",
    "import numpy as np\n",
    "seq = sp.random_seq(15, alphabet=[\"A\", \"G\", \"C\", \"T\"])\n",
    "ohe_seq = sp.ohe(seq, alphabet=sp.ALPHABETS[\"DNA\"])\n",
    "print(seq, ohe_seq.shape)\n",
    "sp.k_shuffle(ohe_seq, k=3, length_axis=0, alphabet=sp.ALPHABETS[\"DNA\"])"
   ]
  },
  {
   "attachments": {},
   "cell_type": "markdown",
   "metadata": {},
   "source": [
    "---"
   ]
  }
 ],
 "metadata": {
  "kernelspec": {
   "display_name": "Python 3.9 ml4gland",
   "language": "python",
   "name": "ml4gland"
  },
  "language_info": {
   "codemirror_mode": {
    "name": "ipython",
    "version": 3
   },
   "file_extension": ".py",
   "mimetype": "text/x-python",
   "name": "python",
   "nbconvert_exporter": "python",
   "pygments_lexer": "ipython3",
   "version": "3.9.16"
  },
  "orig_nbformat": 4
 },
 "nbformat": 4,
 "nbformat_minor": 2
}
