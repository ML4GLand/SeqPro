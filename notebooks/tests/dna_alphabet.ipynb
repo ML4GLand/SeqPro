{
 "cells": [
  {
   "cell_type": "code",
   "execution_count": 119,
   "metadata": {},
   "outputs": [],
   "source": [
    "import numpy as np\n",
    "import seqpro as sp"
   ]
  },
  {
   "cell_type": "code",
   "execution_count": 118,
   "metadata": {},
   "outputs": [],
   "source": [
    "seq = sp.random_seq(13, alphabet=[\"A\", \"G\", \"C\", \"T\"])\n",
    "seqs = sp.random_seqs(10, 13, alphabet=[\"A\", \"G\", \"C\", \"T\"])\n",
    "dna = sp.ALPHABETS[\"DNA\"]"
   ]
  },
  {
   "cell_type": "code",
   "execution_count": 120,
   "metadata": {},
   "outputs": [],
   "source": [
    "def test_ohe_seq(seq, alphabet):\n",
    "    ohe_seq = sp.ohe(seq, alphabet=alphabet)\n",
    "    assert ohe_seq.shape == (len(seq), len(alphabet))\n",
    "    assert ohe_seq.sum(axis=1).all() == 1\n",
    "    assert (ohe_seq.argmax(axis=1) == np.arange(len(seq))).all()"
   ]
  },
  {
   "cell_type": "code",
   "execution_count": null,
   "metadata": {},
   "outputs": [],
   "source": []
  }
 ],
 "metadata": {
  "kernelspec": {
   "display_name": "Python 3.9 ml4gland",
   "language": "python",
   "name": "ml4gland"
  },
  "orig_nbformat": 4
 },
 "nbformat": 4,
 "nbformat_minor": 2
}
