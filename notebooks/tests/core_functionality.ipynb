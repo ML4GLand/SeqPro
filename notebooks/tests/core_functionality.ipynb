{
 "cells": [
  {
   "cell_type": "code",
   "execution_count": null,
   "metadata": {},
   "outputs": [],
   "source": [
    "import numpy as np\n",
    "import seqpro as sp"
   ]
  },
  {
   "cell_type": "code",
   "execution_count": 20,
   "metadata": {},
   "outputs": [],
   "source": [
    "# Grab each available alphabet\n",
    "dna = sp.alphabets.DNA\n",
    "rna = sp.alphabets.RNA\n",
    "aa = sp.alphabets.AA"
   ]
  },
  {
   "cell_type": "code",
   "execution_count": null,
   "metadata": {},
   "outputs": [],
   "source": [
    "# Generate"
   ]
  },
  {
   "cell_type": "code",
   "execution_count": null,
   "metadata": {},
   "outputs": [],
   "source": []
  },
  {
   "cell_type": "code",
   "execution_count": 23,
   "metadata": {},
   "outputs": [],
   "source": [
    "# Generate some random sequences\n",
    "test_seqs = sp.random_seqs((10, 15), alphabet=dna)"
   ]
  },
  {
   "cell_type": "code",
   "execution_count": null,
   "metadata": {},
   "outputs": [],
   "source": []
  },
  {
   "cell_type": "code",
   "execution_count": null,
   "metadata": {},
   "outputs": [],
   "source": []
  },
  {
   "cell_type": "code",
   "execution_count": null,
   "metadata": {},
   "outputs": [],
   "source": []
  },
  {
   "cell_type": "code",
   "execution_count": null,
   "metadata": {},
   "outputs": [],
   "source": []
  },
  {
   "cell_type": "code",
   "execution_count": 34,
   "metadata": {},
   "outputs": [
    {
     "data": {
      "text/plain": [
       "(10, 10, 10, 40)"
      ]
     },
     "execution_count": 34,
     "metadata": {},
     "output_type": "execute_result"
    }
   ],
   "source": [
    "# Generate some random sequences \n",
    "test_seqs = sp.random_seqs(10, 15, alphabet=[\"A\", \"g\", \"C\", \"T\"])\n",
    "test_seq = test_seqs[0]\n",
    "\n",
    "# Add seqs with only Ns\n",
    "test_seqs_with_only_N = sp.random_seqs(10, 15, alphabet=[\"N\"])\n",
    "\n",
    "# Add seqs with Ns \n",
    "test_seqs_with_N = sp.random_seqs(10, 15, alphabet=[\"A\", \"G\", \"C\", \"T\", \"N\"])\n",
    "\n",
    "# Add some seqs of a different length\n",
    "test_seqs_different_length = sp.random_seqs(10, 20, alphabet=[\"A\", \"G\", \"C\", \"T\"])\n",
    "\n",
    "# Concatenate all the seqs\n",
    "all_test_seqs = np.concatenate([test_seqs, test_seqs_with_N, test_seqs_with_only_N, test_seqs_different_length])\n",
    "\n",
    "# Check the lengths\n",
    "len(test_seqs), len(test_seqs_with_N), len(test_seqs_with_only_N), len(all_test_seqs)"
   ]
  },
  {
   "cell_type": "code",
   "execution_count": 35,
   "metadata": {},
   "outputs": [],
   "source": [
    "def test_remove_only_N_seqs(seqs):\n",
    "    seqs_with_no_only_N = sp.remove_only_N_seqs(seqs)\n",
    "    assert len(seqs_with_no_only_N) == 30\n",
    "    return seqs_with_no_only_N\n",
    "test_seqs_with_no_only_N = test_remove_only_N_seqs(all_test_seqs)"
   ]
  },
  {
   "cell_type": "code",
   "execution_count": null,
   "metadata": {},
   "outputs": [],
   "source": [
    "def test_remove_N_seqs(seqs):\n",
    "    seqs_with_no_N = sp.remove_N_seqs(seqs)\n",
    "    assert len(seqs_with_no_N) == 20\n",
    "    return seqs_with_no_N\n",
    "test_seqs_with_no_N = test_remove_N_seqs(test_seqs_with_no_only_N)"
   ]
  },
  {
   "cell_type": "code",
   "execution_count": 18,
   "metadata": {},
   "outputs": [],
   "source": [
    "def test_sanitize_seqs(seqs):\n",
    "    seqs = sp.sanitize_seqs(seqs)\n",
    "    assert all([all([x in [\"A\", \"G\", \"C\", \"T\"] for x in seq]) for seq in seqs])\n",
    "    return seqs\n",
    "test_seqs_sanitized = test_sanitize_seqs(test_seqs_with_no_N)"
   ]
  },
  {
   "cell_type": "code",
   "execution_count": 19,
   "metadata": {},
   "outputs": [],
   "source": [
    "def test_pad_seqs(seqs, pad=\"left\", pad_value=\"N\"):\n",
    "    seqs = sp.pad_seqs(seqs, pad=pad, pad_value=pad_value)\n",
    "    assert all([len(seq) == 20 for seq in seqs])\n",
    "    return seqs\n",
    "test_seqs_left_padded = test_pad_seqs(test_seqs_sanitized, pad=\"left\")\n",
    "test_seqs_right_padded = test_pad_seqs(test_seqs_sanitized, pad=\"right\")\n",
    "test_seqs_center_padded = test_pad_seqs(test_seqs_sanitized, pad=\"both\")"
   ]
  },
  {
   "cell_type": "code",
   "execution_count": 20,
   "metadata": {},
   "outputs": [],
   "source": [
    "def test_ohe(seqs, alphabet=sp.ALPHABETS[\"DNA\"]):\n",
    "    ohe_seqs = sp.ohe(seqs, alphabet=alphabet)\n",
    "    assert ohe_seqs.shape == (20, 20, 4)\n",
    "    return ohe_seqs\n",
    "test_ohe_seqs = test_ohe(test_seqs_left_padded)"
   ]
  },
  {
   "cell_type": "code",
   "execution_count": 21,
   "metadata": {},
   "outputs": [],
   "source": [
    "def test_length(seqs):\n",
    "    lengths = sp.length(seqs)\n",
    "    assert all([x == 20 for x in lengths])\n",
    "    return lengths\n",
    "test_lengths = test_length(test_seqs_left_padded)"
   ]
  },
  {
   "cell_type": "code",
   "execution_count": 22,
   "metadata": {},
   "outputs": [],
   "source": [
    "def test_gc_content(seqs, normalize=True, length_axis=None, alphabet=None, ohe_axis=None):\n",
    "    gc = sp.gc_content(seqs, normalize=normalize)\n",
    "    if normalize:\n",
    "        assert all([x >= 0 and x <= 1 for x in gc])\n",
    "    else:\n",
    "        assert all([x >= 0 and x <= 20 for x in gc])\n",
    "    return gc\n",
    "#test_gc_normalized = test_gc_content(test_seqs_left_padded, normalize=True)\n",
    "#test_gc = test_gc_content(test_seqs_sanitized, normalize=False)\n",
    "#test_gc_ohe = test_gc_content(test_ohe_seqs, normalize=False, alphabet=sp.ALPHABETS[\"DNA\"], ohe_axis=1)"
   ]
  },
  {
   "cell_type": "code",
   "execution_count": 23,
   "metadata": {},
   "outputs": [],
   "source": [
    "def test_nucleotide_content(seqs, normalize=True, length_axis=None, alphabet=None):\n",
    "    nuc_content = sp.nucleotide_content(seqs, normalize=normalize)\n",
    "    if normalize:\n",
    "        assert all([x >= 0 and x <= 1 for x in nuc_content])\n",
    "    else:\n",
    "        assert all([x >= 0 and x <= 20 for x in nuc_content])\n",
    "    return nuc_content\n",
    "#test_nuc_content_normalized = test_nucleotide_content(test_seqs_sanitized, normalize=True)\n",
    "#test_nuc_content = test_nucleotide_content(test_seqs_sanitized, normalize=False)\n",
    "#test_nuc_content_ohe = test_nucleotide_content(test_ohe_seqs, normalize=False, alphabet=sp.ALPHABETS[\"DNA\"], length_axis=1)"
   ]
  },
  {
   "cell_type": "code",
   "execution_count": 24,
   "metadata": {},
   "outputs": [],
   "source": [
    "def test_count_kmers_seq(seq, k=3):\n",
    "    kmers = sp._analyzers.count_kmers_seq(seq, k=k)\n",
    "    assert len(kmers) == 4**k\n",
    "    return kmers\n",
    "#test_1mers = test_count_kmers_seq(test_seq, k=1)\n",
    "#test_2mers = test_count_kmers_seq(test_seq, k=2) \n",
    "#test_3mers = test_count_kmers_seq(test_seq, k=3)"
   ]
  },
  {
   "cell_type": "code",
   "execution_count": 25,
   "metadata": {},
   "outputs": [],
   "source": [
    "# import ordered dict\n",
    "from collections import OrderedDict\n",
    "\n",
    "def naive_count_kmers(seq, k):\n",
    "    # Naive implementation of counting kmers\n",
    "\n",
    "    # Initialize the dictionary\n",
    "    kmers = OrderedDict()\n",
    "    \n",
    "    # Loop over the sequence\n",
    "    for i in range(len(seq) - k + 1):\n",
    "        kmer = seq[i:i+k]\n",
    "        if kmer in kmers:\n",
    "            kmers[kmer] += 1\n",
    "        else:\n",
    "            kmers[kmer] = 1\n",
    "    \n",
    "    # Return the dictionary sorted by the keys\n",
    "    return OrderedDict(sorted(kmers.items()))"
   ]
  },
  {
   "cell_type": "code",
   "execution_count": 26,
   "metadata": {},
   "outputs": [],
   "source": [
    "def test_k_shuffle(seqs, k=1, length_axis=1, seed=13):\n",
    "    shuffled_seqs = sp.k_shuffle(seqs, k=k, length_axis=length_axis)\n",
    "    return shuffled_seqs\n",
    "test_1_shuffle_seqs = test_k_shuffle(test_seqs_left_padded, k=1, length_axis=1)\n",
    "test_2_shuffle_seqs = test_k_shuffle(test_seqs_left_padded, k=2, length_axis=1)\n",
    "test_3_shuffle_seqs = test_k_shuffle(test_seqs_left_padded, k=3, length_axis=1)"
   ]
  },
  {
   "cell_type": "code",
   "execution_count": 28,
   "metadata": {},
   "outputs": [],
   "source": [
    "def test_k_shuffle_ohe(seqs, k=1, length_axis=1, alphabet=sp.ALPHABETS[\"DNA\"]):\n",
    "    shuffled_seqs = sp.k_shuffle(seqs, k=k, length_axis=length_axis, alphabet=alphabet)\n",
    "    return shuffled_seqs\n",
    "#test_1_shuffle_seqs_ohe = test_k_shuffle_ohe(test_ohe_seqs, k=1, length_axis=1, alphabet=sp.ALPHABETS[\"DNA\"])\n",
    "#test_2_shuffle_seqs_ohe = test_k_shuffle_ohe(test_ohe_seqs, k=2, length_axis=1, alphabet=sp.ALPHABETS[\"DNA\"])\n",
    "#test_3_shuffle_seqs_ohe = test_k_shuffle_ohe(test_ohe_seqs, k=3, length_axis=1, alphabet=sp.ALPHABETS[\"DNA\"])"
   ]
  },
  {
   "cell_type": "code",
   "execution_count": 29,
   "metadata": {},
   "outputs": [],
   "source": [
    "test_ohe_seqs_no_pad = test_ohe_seqs[10:]\n",
    "test_1_shuffle_seqs_ohe_no_pad = test_k_shuffle_ohe(test_ohe_seqs_no_pad, k=1, length_axis=1, alphabet=sp.ALPHABETS[\"DNA\"])\n",
    "test_2_shuffle_seqs_ohe_no_pad = test_k_shuffle_ohe(test_ohe_seqs_no_pad, k=2, length_axis=1, alphabet=sp.ALPHABETS[\"DNA\"])\n",
    "test_3_shuffle_seqs_ohe_no_pad = test_k_shuffle_ohe(test_ohe_seqs_no_pad, k=3, length_axis=1, alphabet=sp.ALPHABETS[\"DNA\"])"
   ]
  },
  {
   "cell_type": "code",
   "execution_count": 30,
   "metadata": {},
   "outputs": [
    {
     "name": "stdout",
     "output_type": "stream",
     "text": [
      "OrderedDict([('AA', 3), ('AC', 2), ('AG', 1), ('CA', 1), ('CG', 1), ('CT', 1), ('GA', 1), ('GG', 3), ('GT', 2), ('TA', 2), ('TC', 1), ('TT', 1)])\n",
      "OrderedDict([('AA', 3), ('AC', 2), ('AG', 1), ('CA', 1), ('CG', 1), ('CT', 1), ('GA', 1), ('GG', 3), ('GT', 2), ('TA', 2), ('TC', 1), ('TT', 1)])\n",
      "Original kmers == Shuffled kmers: True\n",
      "\n",
      "OrderedDict([('AA', 2), ('AG', 2), ('CA', 1), ('CG', 1), ('GA', 2), ('GC', 1), ('GG', 1), ('GT', 2), ('TC', 1), ('TG', 2), ('TT', 4)])\n",
      "OrderedDict([('AA', 2), ('AG', 2), ('CA', 1), ('CG', 1), ('GA', 2), ('GC', 1), ('GG', 1), ('GT', 2), ('TC', 1), ('TG', 2), ('TT', 4)])\n",
      "Original kmers == Shuffled kmers: True\n",
      "\n",
      "OrderedDict([('AA', 2), ('AG', 1), ('AT', 3), ('CT', 2), ('GA', 1), ('GC', 1), ('GG', 1), ('GT', 1), ('TA', 2), ('TC', 1), ('TG', 2), ('TT', 2)])\n",
      "OrderedDict([('AA', 2), ('AG', 1), ('AT', 3), ('CT', 2), ('GA', 1), ('GC', 1), ('GG', 1), ('GT', 1), ('TA', 2), ('TC', 1), ('TG', 2), ('TT', 2)])\n",
      "Original kmers == Shuffled kmers: True\n",
      "\n",
      "OrderedDict([('AA', 1), ('AC', 1), ('AG', 1), ('AT', 2), ('CT', 3), ('GA', 4), ('GG', 1), ('TA', 1), ('TC', 2), ('TG', 2), ('TT', 1)])\n",
      "OrderedDict([('AA', 1), ('AC', 1), ('AG', 1), ('AT', 2), ('CT', 3), ('GA', 4), ('GG', 1), ('TA', 1), ('TC', 2), ('TG', 2), ('TT', 1)])\n",
      "Original kmers == Shuffled kmers: True\n",
      "\n",
      "OrderedDict([('AA', 2), ('AC', 2), ('AT', 1), ('CA', 1), ('CC', 2), ('CT', 4), ('GC', 1), ('GG', 1), ('TA', 3), ('TC', 1), ('TG', 1)])\n",
      "OrderedDict([('AA', 2), ('AC', 2), ('AT', 1), ('CA', 1), ('CC', 2), ('CT', 4), ('GC', 1), ('GG', 1), ('TA', 3), ('TC', 1), ('TG', 1)])\n",
      "Original kmers == Shuffled kmers: True\n",
      "\n",
      "OrderedDict([('AA', 4), ('AC', 1), ('AT', 1), ('CC', 2), ('CG', 1), ('CT', 2), ('GA', 1), ('GT', 1), ('TA', 1), ('TC', 2), ('TG', 1), ('TT', 2)])\n",
      "OrderedDict([('AA', 4), ('AC', 1), ('AT', 1), ('CC', 2), ('CG', 1), ('CT', 2), ('GA', 1), ('GT', 1), ('TA', 1), ('TC', 2), ('TG', 1), ('TT', 2)])\n",
      "Original kmers == Shuffled kmers: True\n",
      "\n",
      "OrderedDict([('AA', 3), ('AC', 2), ('AG', 1), ('AT', 2), ('CT', 3), ('GA', 2), ('TA', 3), ('TC', 1), ('TG', 1), ('TT', 1)])\n",
      "OrderedDict([('AA', 3), ('AC', 2), ('AG', 1), ('AT', 2), ('CT', 3), ('GA', 2), ('TA', 3), ('TC', 1), ('TG', 1), ('TT', 1)])\n",
      "Original kmers == Shuffled kmers: True\n",
      "\n",
      "OrderedDict([('AA', 1), ('AC', 1), ('AT', 2), ('CG', 2), ('CT', 1), ('GA', 1), ('GC', 2), ('GT', 2), ('TA', 2), ('TC', 1), ('TG', 2), ('TT', 2)])\n",
      "OrderedDict([('AA', 1), ('AC', 1), ('AT', 2), ('CG', 2), ('CT', 1), ('GA', 1), ('GC', 2), ('GT', 2), ('TA', 2), ('TC', 1), ('TG', 2), ('TT', 2)])\n",
      "Original kmers == Shuffled kmers: True\n",
      "\n",
      "OrderedDict([('AA', 3), ('AC', 2), ('AT', 1), ('CA', 1), ('CC', 1), ('CG', 4), ('GA', 3), ('GC', 2), ('GG', 1), ('TG', 1)])\n",
      "OrderedDict([('AA', 3), ('AC', 2), ('AT', 1), ('CA', 1), ('CC', 1), ('CG', 4), ('GA', 3), ('GC', 2), ('GG', 1), ('TG', 1)])\n",
      "Original kmers == Shuffled kmers: True\n",
      "\n",
      "OrderedDict([('AA', 1), ('AG', 1), ('AT', 1), ('CC', 2), ('CG', 1), ('CT', 3), ('GA', 1), ('GC', 2), ('GT', 1), ('TA', 1), ('TC', 2), ('TG', 2), ('TT', 1)])\n",
      "OrderedDict([('AA', 1), ('AG', 1), ('AT', 1), ('CC', 2), ('CG', 1), ('CT', 3), ('GA', 1), ('GC', 2), ('GT', 1), ('TA', 1), ('TC', 2), ('TG', 2), ('TT', 1)])\n",
      "Original kmers == Shuffled kmers: True\n",
      "\n"
     ]
    }
   ],
   "source": [
    "for ohe_seq in test_ohe_seqs_no_pad:\n",
    "    decoded_seq_bytes = sp.ALPHABETS[\"DNA\"].ohe_to_bytes(ohe_seq)\n",
    "    decoded_seq = b\"\".join(decoded_seq_bytes).decode(\"ascii\")\n",
    "    original_kmers = naive_count_kmers(decoded_seq, k=2)\n",
    "    print(original_kmers)\n",
    "\n",
    "    shuffled_ohe_seq = sp.k_shuffle(ohe_seq, k=2, length_axis=0, alphabet=sp.ALPHABETS[\"DNA\"])\n",
    "    decoded_shuffled_seq_bytes = sp.ALPHABETS[\"DNA\"].ohe_to_bytes(shuffled_ohe_seq)\n",
    "    decoded_shuffled_seq = b\"\".join(decoded_shuffled_seq_bytes).decode(\"ascii\")\n",
    "    shuffled_kmers = naive_count_kmers(decoded_shuffled_seq, k=2)\n",
    "    print(shuffled_kmers)\n",
    "\n",
    "    print(f\"Original kmers == Shuffled kmers: {original_kmers == shuffled_kmers}\")\n",
    "    print()"
   ]
  },
  {
   "cell_type": "code",
   "execution_count": 115,
   "metadata": {},
   "outputs": [],
   "source": [
    "from seqpro._utils import _check_axes"
   ]
  },
  {
   "cell_type": "code",
   "execution_count": null,
   "metadata": {},
   "outputs": [],
   "source": [
    "_check_axes(test_ohe_seqs_no_pad, length_axis=0, ohe_axis=False)"
   ]
  },
  {
   "cell_type": "code",
   "execution_count": 116,
   "metadata": {},
   "outputs": [
    {
     "data": {
      "text/plain": [
       "True"
      ]
     },
     "execution_count": 116,
     "metadata": {},
     "output_type": "execute_result"
    }
   ],
   "source": [
    "False == 0"
   ]
  },
  {
   "cell_type": "code",
   "execution_count": null,
   "metadata": {},
   "outputs": [],
   "source": [
    "from seqpro import _deprecated as _dep"
   ]
  },
  {
   "cell_type": "code",
   "execution_count": 90,
   "metadata": {},
   "outputs": [
    {
     "name": "stdout",
     "output_type": "stream",
     "text": [
      "Sequence: CACACCAGACTCACC\n",
      "OrderedDict([('AC', 4), ('AG', 1), ('CA', 4), ('CC', 2), ('CT', 1), ('GA', 1), ('TC', 1)])\n",
      "Shuffled sequence: CCAGACACACACCTC\n",
      "OrderedDict([('AC', 4), ('AG', 1), ('CA', 4), ('CC', 2), ('CT', 1), ('GA', 1), ('TC', 1)])\n",
      "Dinucleotide shuffled sequence: CACACACAGACTCCC\n",
      "OrderedDict([('AC', 4), ('AG', 1), ('CA', 4), ('CC', 2), ('CT', 1), ('GA', 1), ('TC', 1)])\n",
      "Original kmers == Shuffled kmers: True\n",
      "Original kmers == Dinucleotide shuffled kmers: True\n",
      "\n",
      "Sequence: CCGGCGTACATGTTC\n",
      "OrderedDict([('AC', 1), ('AT', 1), ('CA', 1), ('CC', 1), ('CG', 2), ('GC', 1), ('GG', 1), ('GT', 2), ('TA', 1), ('TC', 1), ('TG', 1), ('TT', 1)])\n",
      "Shuffled sequence: CGCGTTATGGTCCAC\n",
      "OrderedDict([('AC', 1), ('AT', 1), ('CA', 1), ('CC', 1), ('CG', 2), ('GC', 1), ('GG', 1), ('GT', 2), ('TA', 1), ('TC', 1), ('TG', 1), ('TT', 1)])\n",
      "Dinucleotide shuffled sequence: CCGCGTACATGGTTC\n",
      "OrderedDict([('AC', 1), ('AT', 1), ('CA', 1), ('CC', 1), ('CG', 2), ('GC', 1), ('GG', 1), ('GT', 2), ('TA', 1), ('TC', 1), ('TG', 1), ('TT', 1)])\n",
      "Original kmers == Shuffled kmers: True\n",
      "Original kmers == Dinucleotide shuffled kmers: True\n",
      "\n",
      "Sequence: GTGCAATAACCCAGT\n",
      "OrderedDict([('AA', 2), ('AC', 1), ('AG', 1), ('AT', 1), ('CA', 2), ('CC', 2), ('GC', 1), ('GT', 2), ('TA', 1), ('TG', 1)])\n",
      "Shuffled sequence: GTACAGCCCAAATGT\n",
      "OrderedDict([('AA', 2), ('AC', 1), ('AG', 1), ('AT', 1), ('CA', 2), ('CC', 2), ('GC', 1), ('GT', 2), ('TA', 1), ('TG', 1)])\n",
      "Dinucleotide shuffled sequence: GCATGTACCCAAAGT\n",
      "OrderedDict([('AA', 2), ('AC', 1), ('AG', 1), ('AT', 1), ('CA', 2), ('CC', 2), ('GC', 1), ('GT', 2), ('TA', 1), ('TG', 1)])\n",
      "Original kmers == Shuffled kmers: True\n",
      "Original kmers == Dinucleotide shuffled kmers: True\n",
      "\n",
      "Sequence: TGATCAGGATGGTTG\n",
      "OrderedDict([('AG', 1), ('AT', 2), ('CA', 1), ('GA', 2), ('GG', 2), ('GT', 1), ('TC', 1), ('TG', 3), ('TT', 1)])\n",
      "Shuffled sequence: TGATTGGTGATCAGG\n",
      "OrderedDict([('AG', 1), ('AT', 2), ('CA', 1), ('GA', 2), ('GG', 2), ('GT', 1), ('TC', 1), ('TG', 3), ('TT', 1)])\n",
      "Dinucleotide shuffled sequence: TCAGGATTGATGGTG\n",
      "OrderedDict([('AG', 1), ('AT', 2), ('CA', 1), ('GA', 2), ('GG', 2), ('GT', 1), ('TC', 1), ('TG', 3), ('TT', 1)])\n",
      "Original kmers == Shuffled kmers: True\n",
      "Original kmers == Dinucleotide shuffled kmers: True\n",
      "\n",
      "Sequence: CTCCTTTTCCTATCA\n",
      "OrderedDict([('AT', 1), ('CA', 1), ('CC', 2), ('CT', 3), ('TA', 1), ('TC', 3), ('TT', 3)])\n",
      "Shuffled sequence: CCTTTATTCTCTCCA\n",
      "OrderedDict([('AT', 1), ('CA', 1), ('CC', 2), ('CT', 3), ('TA', 1), ('TC', 3), ('TT', 3)])\n",
      "Dinucleotide shuffled sequence: CCTTCTTTATCTCCA\n",
      "OrderedDict([('AT', 1), ('CA', 1), ('CC', 2), ('CT', 3), ('TA', 1), ('TC', 3), ('TT', 3)])\n",
      "Original kmers == Shuffled kmers: True\n",
      "Original kmers == Dinucleotide shuffled kmers: True\n",
      "\n",
      "Sequence: CGCGCACTGAGTGGG\n",
      "OrderedDict([('AC', 1), ('AG', 1), ('CA', 1), ('CG', 2), ('CT', 1), ('GA', 1), ('GC', 2), ('GG', 2), ('GT', 1), ('TG', 2)])\n",
      "Shuffled sequence: CGACAGCTGGTGGCG\n",
      "OrderedDict([('AC', 1), ('AG', 1), ('CA', 1), ('CG', 2), ('CT', 1), ('GA', 1), ('GC', 2), ('GG', 2), ('GT', 1), ('TG', 2)])\n",
      "Dinucleotide shuffled sequence: CGCGCACTGTGAGGG\n",
      "OrderedDict([('AC', 1), ('AG', 1), ('CA', 1), ('CG', 2), ('CT', 1), ('GA', 1), ('GC', 2), ('GG', 2), ('GT', 1), ('TG', 2)])\n",
      "Original kmers == Shuffled kmers: True\n",
      "Original kmers == Dinucleotide shuffled kmers: True\n",
      "\n",
      "Sequence: ATCGATAGGTGTGGG\n",
      "OrderedDict([('AG', 1), ('AT', 2), ('CG', 1), ('GA', 1), ('GG', 3), ('GT', 2), ('TA', 1), ('TC', 1), ('TG', 2)])\n",
      "Shuffled sequence: AGGGTGTGATATCGG\n",
      "OrderedDict([('AG', 1), ('AT', 2), ('CG', 1), ('GA', 1), ('GG', 3), ('GT', 2), ('TA', 1), ('TC', 1), ('TG', 2)])\n",
      "Dinucleotide shuffled sequence: ATATGGGTCGAGTGG\n",
      "OrderedDict([('AG', 1), ('AT', 2), ('CG', 1), ('GA', 1), ('GG', 3), ('GT', 2), ('TA', 1), ('TC', 1), ('TG', 2)])\n",
      "Original kmers == Shuffled kmers: True\n",
      "Original kmers == Dinucleotide shuffled kmers: True\n",
      "\n",
      "Sequence: ACTTACGGTATCGTG\n",
      "OrderedDict([('AC', 2), ('AT', 1), ('CG', 2), ('CT', 1), ('GG', 1), ('GT', 2), ('TA', 2), ('TC', 1), ('TG', 1), ('TT', 1)])\n",
      "Shuffled sequence: ATACGGTTACTGTCG\n",
      "OrderedDict([('AC', 2), ('AT', 1), ('CG', 2), ('CT', 1), ('GG', 1), ('GT', 2), ('TA', 2), ('TC', 1), ('TG', 1), ('TT', 1)])\n",
      "Dinucleotide shuffled sequence: ACTTACGTCGGTATG\n",
      "OrderedDict([('AC', 2), ('AT', 1), ('CG', 2), ('CT', 1), ('GG', 1), ('GT', 2), ('TA', 2), ('TC', 1), ('TG', 1), ('TT', 1)])\n",
      "Original kmers == Shuffled kmers: True\n",
      "Original kmers == Dinucleotide shuffled kmers: True\n",
      "\n",
      "Sequence: CGTTAAAATCATCGG\n",
      "OrderedDict([('AA', 3), ('AT', 2), ('CA', 1), ('CG', 2), ('GG', 1), ('GT', 1), ('TA', 1), ('TC', 2), ('TT', 1)])\n",
      "Shuffled sequence: CGGTAAATCAATTCG\n",
      "OrderedDict([('AA', 3), ('AT', 2), ('CA', 1), ('CG', 2), ('GG', 1), ('GT', 1), ('TA', 1), ('TC', 2), ('TT', 1)])\n",
      "Dinucleotide shuffled sequence: CAATAAATCGTTCGG\n",
      "OrderedDict([('AA', 3), ('AT', 2), ('CA', 1), ('CG', 2), ('GG', 1), ('GT', 1), ('TA', 1), ('TC', 2), ('TT', 1)])\n",
      "Original kmers == Shuffled kmers: True\n",
      "Original kmers == Dinucleotide shuffled kmers: True\n",
      "\n",
      "Sequence: ATTTGAAGGGCACCC\n",
      "OrderedDict([('AA', 1), ('AC', 1), ('AG', 1), ('AT', 1), ('CA', 1), ('CC', 2), ('GA', 1), ('GC', 1), ('GG', 2), ('TG', 1), ('TT', 2)])\n",
      "Shuffled sequence: AGGGAACCATTTGCC\n",
      "OrderedDict([('AA', 1), ('AC', 1), ('AG', 1), ('AT', 1), ('CA', 1), ('CC', 2), ('GA', 1), ('GC', 1), ('GG', 2), ('TG', 1), ('TT', 2)])\n",
      "Dinucleotide shuffled sequence: ATTTGGAAGGCCACC\n",
      "OrderedDict([('AA', 1), ('AC', 1), ('AG', 1), ('AT', 1), ('CA', 1), ('CC', 2), ('GA', 1), ('GC', 1), ('GG', 2), ('TG', 1), ('TT', 2)])\n",
      "Original kmers == Shuffled kmers: True\n",
      "Original kmers == Dinucleotide shuffled kmers: True\n",
      "\n",
      "Sequence: CCATTATCTCTTAGGGTCAA\n",
      "OrderedDict([('AA', 1), ('AG', 1), ('AT', 2), ('CA', 2), ('CC', 1), ('CT', 2), ('GG', 2), ('GT', 1), ('TA', 2), ('TC', 3), ('TT', 2)])\n",
      "Shuffled sequence: CTAGGGTCCTTCAATTATCA\n",
      "OrderedDict([('AA', 1), ('AG', 1), ('AT', 2), ('CA', 2), ('CC', 1), ('CT', 2), ('GG', 2), ('GT', 1), ('TA', 2), ('TC', 3), ('TT', 2)])\n",
      "Dinucleotide shuffled sequence: CATCTTATCTAGGGTTCCAA\n",
      "OrderedDict([('AA', 1), ('AG', 1), ('AT', 2), ('CA', 2), ('CC', 1), ('CT', 2), ('GG', 2), ('GT', 1), ('TA', 2), ('TC', 3), ('TT', 2)])\n",
      "Original kmers == Shuffled kmers: True\n",
      "Original kmers == Dinucleotide shuffled kmers: True\n",
      "\n",
      "Sequence: GTAGGCACCTATAGACTCAG\n",
      "OrderedDict([('AC', 2), ('AG', 3), ('AT', 1), ('CA', 2), ('CC', 1), ('CT', 2), ('GA', 1), ('GC', 1), ('GG', 1), ('GT', 1), ('TA', 3), ('TC', 1)])\n",
      "Shuffled sequence: GACCTATAGTCAGGCACTAG\n",
      "OrderedDict([('AC', 2), ('AG', 3), ('AT', 1), ('CA', 2), ('CC', 1), ('CT', 2), ('GA', 1), ('GC', 1), ('GG', 1), ('GT', 1), ('TA', 3), ('TC', 1)])\n",
      "Dinucleotide shuffled sequence: GTACCTACATAGGCTCAGAG\n",
      "OrderedDict([('AC', 2), ('AG', 3), ('AT', 1), ('CA', 2), ('CC', 1), ('CT', 2), ('GA', 1), ('GC', 1), ('GG', 1), ('GT', 1), ('TA', 3), ('TC', 1)])\n",
      "Original kmers == Shuffled kmers: True\n",
      "Original kmers == Dinucleotide shuffled kmers: True\n",
      "\n",
      "Sequence: TTCCTAGCGATGCCGTTAGA\n",
      "OrderedDict([('AG', 2), ('AT', 1), ('CC', 2), ('CG', 2), ('CT', 1), ('GA', 2), ('GC', 2), ('GT', 1), ('TA', 2), ('TC', 1), ('TG', 1), ('TT', 2)])\n",
      "Shuffled sequence: TATTTCGAGTGAGCGCCCTA\n",
      "OrderedDict([('AG', 2), ('AT', 1), ('CC', 2), ('CG', 2), ('CT', 1), ('GA', 2), ('GC', 2), ('GT', 1), ('TA', 2), ('TC', 1), ('TG', 1), ('TT', 2)])\n",
      "Dinucleotide shuffled sequence: TTTGATAGTCTAGCGCCCGA\n",
      "OrderedDict([('AG', 2), ('AT', 1), ('CC', 2), ('CG', 2), ('CT', 1), ('GA', 2), ('GC', 2), ('GT', 1), ('TA', 2), ('TC', 1), ('TG', 1), ('TT', 2)])\n",
      "Original kmers == Shuffled kmers: True\n",
      "Original kmers == Dinucleotide shuffled kmers: True\n",
      "\n",
      "Sequence: ACTAGCCCCTCGAGCATGCG\n",
      "OrderedDict([('AC', 1), ('AG', 2), ('AT', 1), ('CA', 1), ('CC', 3), ('CG', 2), ('CT', 2), ('GA', 1), ('GC', 3), ('TA', 1), ('TC', 1), ('TG', 1)])\n",
      "Shuffled sequence: AGCGCGCCCTATCACCTGAG\n",
      "OrderedDict([('AC', 1), ('AG', 2), ('AT', 1), ('CA', 1), ('CC', 3), ('CG', 2), ('CT', 2), ('GA', 1), ('GC', 3), ('TA', 1), ('TC', 1), ('TG', 1)])\n",
      "Dinucleotide shuffled sequence: ACCCGAGCTCAGCCTATGCG\n",
      "OrderedDict([('AC', 1), ('AG', 2), ('AT', 1), ('CA', 1), ('CC', 3), ('CG', 2), ('CT', 2), ('GA', 1), ('GC', 3), ('TA', 1), ('TC', 1), ('TG', 1)])\n",
      "Original kmers == Shuffled kmers: True\n",
      "Original kmers == Dinucleotide shuffled kmers: True\n",
      "\n",
      "Sequence: AACAATGTTAGCTTGCCGTC\n",
      "OrderedDict([('AA', 2), ('AC', 1), ('AG', 1), ('AT', 1), ('CA', 1), ('CC', 1), ('CG', 1), ('CT', 1), ('GC', 2), ('GT', 2), ('TA', 1), ('TC', 1), ('TG', 2), ('TT', 2)])\n",
      "Shuffled sequence: AAATCCGTTGCAGTACTTGC\n",
      "OrderedDict([('AA', 2), ('AC', 1), ('AG', 1), ('AT', 1), ('CA', 1), ('CC', 1), ('CG', 1), ('CT', 1), ('GC', 2), ('GT', 2), ('TA', 1), ('TC', 1), ('TG', 2), ('TT', 2)])\n",
      "Dinucleotide shuffled sequence: ACATGCTGCCGTTAAAGTTC\n",
      "OrderedDict([('AA', 2), ('AC', 1), ('AG', 1), ('AT', 1), ('CA', 1), ('CC', 1), ('CG', 1), ('CT', 1), ('GC', 2), ('GT', 2), ('TA', 1), ('TC', 1), ('TG', 2), ('TT', 2)])\n",
      "Original kmers == Shuffled kmers: True\n",
      "Original kmers == Dinucleotide shuffled kmers: True\n",
      "\n",
      "Sequence: TACTGGGTGGCAAATTTGAG\n",
      "OrderedDict([('AA', 2), ('AC', 1), ('AG', 1), ('AT', 1), ('CA', 1), ('CT', 1), ('GA', 1), ('GC', 1), ('GG', 3), ('GT', 1), ('TA', 1), ('TG', 3), ('TT', 2)])\n",
      "Shuffled sequence: TTGTAGGACAAATGGCTTGG\n",
      "OrderedDict([('AA', 2), ('AC', 1), ('AG', 1), ('AT', 1), ('CA', 1), ('CT', 1), ('GA', 1), ('GC', 1), ('GG', 3), ('GT', 1), ('TA', 1), ('TG', 3), ('TT', 2)])\n",
      "Dinucleotide shuffled sequence: TTAATTGGCTGGGTGACAAG\n",
      "OrderedDict([('AA', 2), ('AC', 1), ('AG', 1), ('AT', 1), ('CA', 1), ('CT', 1), ('GA', 1), ('GC', 1), ('GG', 3), ('GT', 1), ('TA', 1), ('TG', 3), ('TT', 2)])\n",
      "Original kmers == Shuffled kmers: True\n",
      "Original kmers == Dinucleotide shuffled kmers: True\n",
      "\n",
      "Sequence: AGACCCGTACCTTGGGGTAG\n",
      "OrderedDict([('AC', 2), ('AG', 2), ('CC', 3), ('CG', 1), ('CT', 1), ('GA', 1), ('GG', 3), ('GT', 2), ('TA', 2), ('TG', 1), ('TT', 1)])\n",
      "Shuffled sequence: AGAGTACCTACCCGGGGTTG\n",
      "OrderedDict([('AC', 2), ('AG', 2), ('CC', 3), ('CG', 1), ('CT', 1), ('GA', 1), ('GG', 3), ('GT', 2), ('TA', 2), ('TG', 1), ('TT', 1)])\n",
      "Dinucleotide shuffled sequence: AGGTTACCCGGACCTGGTAG\n",
      "OrderedDict([('AC', 2), ('AG', 2), ('CC', 3), ('CG', 1), ('CT', 1), ('GA', 1), ('GG', 3), ('GT', 2), ('TA', 2), ('TG', 1), ('TT', 1)])\n",
      "Original kmers == Shuffled kmers: True\n",
      "Original kmers == Dinucleotide shuffled kmers: True\n",
      "\n",
      "Sequence: TGGCTGTCCAAGCCACAGCA\n",
      "OrderedDict([('AA', 1), ('AC', 1), ('AG', 2), ('CA', 4), ('CC', 2), ('CT', 1), ('GC', 3), ('GG', 1), ('GT', 1), ('TC', 1), ('TG', 2)])\n",
      "Shuffled sequence: TGCTCCAGGCACCAGTGCAA\n",
      "OrderedDict([('AA', 1), ('AC', 1), ('AG', 2), ('CA', 4), ('CC', 2), ('CT', 1), ('GC', 3), ('GG', 1), ('GT', 1), ('TC', 1), ('TG', 2)])\n",
      "Dinucleotide shuffled sequence: TGCCAAGGCTGTCCACAGCA\n",
      "OrderedDict([('AA', 1), ('AC', 1), ('AG', 2), ('CA', 4), ('CC', 2), ('CT', 1), ('GC', 3), ('GG', 1), ('GT', 1), ('TC', 1), ('TG', 2)])\n",
      "Original kmers == Shuffled kmers: True\n",
      "Original kmers == Dinucleotide shuffled kmers: True\n",
      "\n",
      "Sequence: CACTTTATACCAACAGACGG\n",
      "OrderedDict([('AA', 1), ('AC', 4), ('AG', 1), ('AT', 1), ('CA', 3), ('CC', 1), ('CG', 1), ('CT', 1), ('GA', 1), ('GG', 1), ('TA', 2), ('TT', 2)])\n",
      "Shuffled sequence: CACACCAGGATTTAACTACG\n",
      "OrderedDict([('AA', 1), ('AC', 4), ('AG', 1), ('AT', 1), ('CA', 3), ('CC', 1), ('CG', 1), ('CT', 1), ('GA', 1), ('GG', 1), ('TA', 2), ('TT', 2)])\n",
      "Dinucleotide shuffled sequence: CACTTTATAGACCACAACGG\n",
      "OrderedDict([('AA', 1), ('AC', 4), ('AG', 1), ('AT', 1), ('CA', 3), ('CC', 1), ('CG', 1), ('CT', 1), ('GA', 1), ('GG', 1), ('TA', 2), ('TT', 2)])\n",
      "Original kmers == Shuffled kmers: True\n",
      "Original kmers == Dinucleotide shuffled kmers: True\n",
      "\n",
      "Sequence: AAGCCACGTGCTCTATCAGA\n",
      "OrderedDict([('AA', 1), ('AC', 1), ('AG', 2), ('AT', 1), ('CA', 2), ('CC', 1), ('CG', 1), ('CT', 2), ('GA', 1), ('GC', 2), ('GT', 1), ('TA', 1), ('TC', 2), ('TG', 1)])\n",
      "Shuffled sequence: ATCAAGCGTAGACCTGCTCA\n",
      "OrderedDict([('AA', 1), ('AC', 1), ('AG', 2), ('AT', 1), ('CA', 2), ('CC', 1), ('CG', 1), ('CT', 2), ('GA', 1), ('GC', 2), ('GT', 1), ('TA', 1), ('TC', 2), ('TG', 1)])\n",
      "Dinucleotide shuffled sequence: AGCATCTGTAACCTCGCAGA\n",
      "OrderedDict([('AA', 1), ('AC', 1), ('AG', 2), ('AT', 1), ('CA', 2), ('CC', 1), ('CG', 1), ('CT', 2), ('GA', 1), ('GC', 2), ('GT', 1), ('TA', 1), ('TC', 2), ('TG', 1)])\n",
      "Original kmers == Shuffled kmers: True\n",
      "Original kmers == Dinucleotide shuffled kmers: True\n",
      "\n"
     ]
    }
   ],
   "source": [
    "for seq in test_seqs_sanitized:\n",
    "    print(f\"Sequence: {seq}\")\n",
    "    original_kmers = naive_count_kmers(seq, k=2)\n",
    "    print(original_kmers)\n",
    "\n",
    "    shuffled_seq_bytes = sp.k_shuffle(seq, k=2, seed=42)\n",
    "    shuffled_seq = b\"\".join(shuffled_seq_bytes).decode(\"ascii\")\n",
    "    shuffled_kmers = naive_count_kmers(shuffled_seq, k=2)\n",
    "    print(f\"Shuffled sequence: {shuffled_seq}\")\n",
    "    print(shuffled_kmers)\n",
    "\n",
    "    dinuc_shuffle_seq = _dep.dinuc_shuffle_seq(seq, rng=np.random.RandomState(42))\n",
    "    print(f\"Dinucleotide shuffled sequence: {dinuc_shuffle_seq}\")\n",
    "    print(naive_count_kmers(dinuc_shuffle_seq, k=2))\n",
    "\n",
    "    print(f\"Original kmers == Shuffled kmers: {original_kmers == shuffled_kmers}\")\n",
    "    print(f\"Original kmers == Dinucleotide shuffled kmers: {original_kmers == naive_count_kmers(dinuc_shuffle_seq, k=2)}\")\n",
    "    print()"
   ]
  },
  {
   "cell_type": "code",
   "execution_count": null,
   "metadata": {},
   "outputs": [],
   "source": []
  }
 ],
 "metadata": {
  "kernelspec": {
   "display_name": "Python 3.11 seqpro",
   "language": "python",
   "name": "seqpro"
  },
  "orig_nbformat": 4
 },
 "nbformat": 4,
 "nbformat_minor": 2
}
