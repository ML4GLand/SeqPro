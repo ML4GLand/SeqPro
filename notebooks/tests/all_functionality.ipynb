{
 "cells": [
  {
   "cell_type": "code",
   "execution_count": 69,
   "metadata": {},
   "outputs": [
    {
     "name": "stdout",
     "output_type": "stream",
     "text": [
      "The autoreload extension is already loaded. To reload it, use:\n",
      "  %reload_ext autoreload\n"
     ]
    }
   ],
   "source": [
    "%load_ext autoreload\n",
    "%autoreload 2\n",
    "%aimport seqpro"
   ]
  },
  {
   "cell_type": "code",
   "execution_count": 70,
   "metadata": {},
   "outputs": [],
   "source": [
    "import numpy as np"
   ]
  },
  {
   "attachments": {},
   "cell_type": "markdown",
   "metadata": {},
   "source": [
    "# `utils` module"
   ]
  },
  {
   "cell_type": "code",
   "execution_count": 71,
   "metadata": {},
   "outputs": [],
   "source": [
    "# Generate some random sequences \n",
    "test_seqs = seqpro.random_seqs(10, 1000, alphabet=[\"A\", \"g\", \"C\", \"T\"])\n",
    "test_seq = test_seqs[0]"
   ]
  },
  {
   "cell_type": "code",
   "execution_count": 72,
   "metadata": {},
   "outputs": [],
   "source": [
    "# Add seqs with only Ns\n",
    "test_seqs_with_only_N = seqpro.random_seqs(10, 1000, alphabet=[\"N\"])\n",
    "\n",
    "# Add seqs with Ns \n",
    "test_seqs_with_N = seqpro.random_seqs(10, 1000, alphabet=[\"A\", \"G\", \"C\", \"T\", \"N\"])\n",
    "\n",
    "# Append some sequences with Ns\n",
    "test_seqs = np.concatenate((test_seqs, test_seqs_with_N, test_seqs_with_only_N))"
   ]
  },
  {
   "attachments": {},
   "cell_type": "markdown",
   "metadata": {},
   "source": [
    "# `cleaners` module"
   ]
  },
  {
   "cell_type": "code",
   "execution_count": 60,
   "metadata": {},
   "outputs": [],
   "source": [
    "# remove seqs with only Ns\n",
    "test_seqs = seqpro.remove_only_N_seqs(test_seqs)\n",
    "\n",
    "# Check that the sequences with only Ns have been removed\n",
    "assert len(test_seqs) == 20"
   ]
  },
  {
   "cell_type": "code",
   "execution_count": 62,
   "metadata": {},
   "outputs": [],
   "source": [
    "# Remove seqs with any Ns\n",
    "test_seqs = seqpro.remove_N_seqs(test_seqs)\n",
    "\n",
    "# Check that the sequences with Ns have been removed\n",
    "assert len(test_seqs) == 10"
   ]
  },
  {
   "cell_type": "code",
   "execution_count": 68,
   "metadata": {},
   "outputs": [],
   "source": [
    "# Sanitize sequences\n",
    "test_seq = seqpro.sanitize_seq(test_seq)\n",
    "test_seqs = seqpro.sanitize_seqs(test_seqs)\n",
    "\n",
    "# Check that the sequences have been sanitized, every letter is A, G, C, or T\n",
    "assert all([x in [\"A\", \"G\", \"C\", \"T\"] for x in test_seq])\n",
    "assert all([all([x in [\"A\", \"G\", \"C\", \"T\"] for x in seq]) for seq in test_seqs])"
   ]
  },
  {
   "attachments": {},
   "cell_type": "markdown",
   "metadata": {},
   "source": [
    "# `encoders` module"
   ]
  },
  {
   "cell_type": "code",
   "execution_count": 6,
   "metadata": {},
   "outputs": [],
   "source": [
    "# Ascii encode sequences\n",
    "ascii_seq = seqpro.ascii_encode_seq(test_seq)\n",
    "ascii_seqs = seqpro.ascii_encode_seqs(test_seqs)\n",
    "\n",
    "# Ascii decode sequences\n",
    "decoded_seq = seqpro.ascii_decode_seq(ascii_seq)\n",
    "decoded_seqs = seqpro.ascii_decode_seqs(ascii_seqs)\n",
    "\n",
    "# Check that the decoded sequences are the same as the original sequences\n",
    "assert np.all(test_seqs == decoded_seqs)"
   ]
  },
  {
   "cell_type": "code",
   "execution_count": 7,
   "metadata": {},
   "outputs": [
    {
     "data": {
      "application/vnd.jupyter.widget-view+json": {
       "model_id": "f6e2f4cbe7c84412bcc0e1eb5d8b7902",
       "version_major": 2,
       "version_minor": 0
      },
      "text/plain": [
       "One-hot encoding sequences:   0%|          | 0/10 [00:00<?, ?it/s]"
      ]
     },
     "metadata": {},
     "output_type": "display_data"
    },
    {
     "data": {
      "application/vnd.jupyter.widget-view+json": {
       "model_id": "c94ced781de7476985a719debfa08fe1",
       "version_major": 2,
       "version_minor": 0
      },
      "text/plain": [
       "Decoding sequences:   0%|          | 0/10 [00:00<?, ?it/s]"
      ]
     },
     "metadata": {},
     "output_type": "display_data"
    }
   ],
   "source": [
    "# One-hot encode sequences\n",
    "ohe_seq = seqpro.ohe_seq(test_seq)\n",
    "ohe_seqs = seqpro.ohe_seqs(test_seqs)\n",
    "\n",
    "# Decode sequences\n",
    "decoded_seq = seqpro.decode_seq(ohe_seq)\n",
    "decoded_seqs = seqpro.decode_seqs(ohe_seqs)\n",
    "\n",
    "# Check that the decoded sequences are the same as the original sequences\n",
    "assert np.all(test_seqs == decoded_seqs)"
   ]
  },
  {
   "attachments": {},
   "cell_type": "markdown",
   "metadata": {},
   "source": [
    "# `modifiers` module"
   ]
  },
  {
   "cell_type": "code",
   "execution_count": 13,
   "metadata": {},
   "outputs": [
    {
     "data": {
      "application/vnd.jupyter.widget-view+json": {
       "model_id": "d670bae9c6984265ba5348ed59cb4b94",
       "version_major": 2,
       "version_minor": 0
      },
      "text/plain": [
       "Reverse complementing sequences:   0%|          | 0/10 [00:00<?, ?it/s]"
      ]
     },
     "metadata": {},
     "output_type": "display_data"
    },
    {
     "data": {
      "application/vnd.jupyter.widget-view+json": {
       "model_id": "e2f3be8961134bc5bfe64d0871cc5e5d",
       "version_major": 2,
       "version_minor": 0
      },
      "text/plain": [
       "Reverse complementing sequences:   0%|          | 0/10 [00:00<?, ?it/s]"
      ]
     },
     "metadata": {},
     "output_type": "display_data"
    }
   ],
   "source": [
    "# Reverse complement sequences\n",
    "revcomp_seq = seqpro.reverse_complement_seq(test_seq)\n",
    "revcomp_seqs = seqpro.reverse_complement_seqs(test_seqs)\n",
    "\n",
    "# Reverse complement sequences back to original sequences\n",
    "revcomp_revcomp_seq = seqpro.reverse_complement_seq(revcomp_seq)\n",
    "revcomp_revcomp_seqs = seqpro.reverse_complement_seqs(revcomp_seqs)\n",
    "\n",
    "# Check that the reverse complemented sequences are the same as the original sequences\n",
    "assert np.all(test_seqs == revcomp_revcomp_seqs)"
   ]
  },
  {
   "cell_type": "code",
   "execution_count": 16,
   "metadata": {},
   "outputs": [],
   "source": [
    "# Shuffle sequences\n",
    "shuffled_seq = seqpro.shuffle_seq(test_seq)\n",
    "shuffled_seqs = seqpro.shuffle_seqs(test_seqs)\n",
    "\n",
    "# Check that the shuffled sequences are not the same as the original sequences\n",
    "assert not np.all(test_seqs == shuffled_seqs)"
   ]
  },
  {
   "cell_type": "code",
   "execution_count": 17,
   "metadata": {},
   "outputs": [],
   "source": [
    "# Dinucleotide shuffle sequences\n",
    "dinuc_shuffled_seq = seqpro.dinuc_shuffle_seq(test_seq)\n",
    "dinuc_shuffled_seqs = seqpro.dinuc_shuffle_seqs(test_seqs)\n",
    "\n",
    "# Check that the dinucleotide shuffled sequences are not the same as the original sequences\n",
    "assert not np.all(test_seqs == dinuc_shuffled_seqs)"
   ]
  },
  {
   "attachments": {},
   "cell_type": "markdown",
   "metadata": {},
   "source": [
    "# `analyzers` module"
   ]
  },
  {
   "cell_type": "code",
   "execution_count": 22,
   "metadata": {},
   "outputs": [],
   "source": [
    "# Get length of sequences\n",
    "lens = seqpro.len_seqs(test_seqs)\n",
    "\n",
    "# Check that the length of the sequences is 1000\n",
    "assert np.all(lens == 1000)"
   ]
  },
  {
   "cell_type": "code",
   "execution_count": 24,
   "metadata": {},
   "outputs": [],
   "source": [
    "# Get GC content of sequences\n",
    "gc_content = seqpro.gc_content_seq(test_seqs[0])\n",
    "\n",
    "# Check that is the GC content of the sequences is between 0 and 1\n",
    "assert np.all((gc_content >= 0) & (gc_content <= 1))\n",
    "\n",
    "# Check that is the GC content is within 0.1 of 0.5\n",
    "assert np.all(np.abs(gc_content - 0.5) < 0.1)\n",
    "\n",
    "# Get GC content of sequences\n",
    "gc_contents = seqpro.gc_content_seqs(test_seqs)\n",
    "\n",
    "# Check that is the GC content of the sequences is between 0 and 1\n",
    "assert np.all((gc_contents >= 0) & (gc_contents <= 1))\n",
    "\n",
    "# Check that is the GC content is within 0.1 of 0.5\n",
    "assert np.all(np.abs(gc_contents - 0.5) < 0.1)"
   ]
  },
  {
   "cell_type": "code",
   "execution_count": 31,
   "metadata": {},
   "outputs": [],
   "source": [
    "# Get nucleotide content of sequence\n",
    "nuc_content = seqpro.nucleotide_content_seq(test_seqs[0])\n",
    "\n",
    "# Check that is the nucleotide content of the sequences is between 0 and 1\n",
    "assert np.all((nuc_content >= 0) & (nuc_content <= 1))\n",
    "\n",
    "# Check that is the nucleotide content is within 0.1 of 0.25\n",
    "assert np.all(np.abs(nuc_content - 0.25) < 0.1)\n",
    "\n",
    "# Get nucleotide content of sequences\n",
    "nuc_contents = seqpro.nucleotide_content_seqs(test_seqs)\n",
    "\n",
    "# Check that is the nucleotide content of the sequences is between 0 and 1\n",
    "assert np.all((nuc_contents >= 0) & (nuc_contents <= 1))\n",
    "\n",
    "# Check that is the nucleotide content is within 0.1 of 0.25\n",
    "assert np.all(np.abs(nuc_contents - 0.25) < 0.1)"
   ]
  },
  {
   "cell_type": "code",
   "execution_count": 36,
   "metadata": {},
   "outputs": [],
   "source": [
    "# Get kmer counts of sequences\n",
    "kmer_counts = seqpro.count_kmers_seq(test_seqs[0], 10)"
   ]
  },
  {
   "attachments": {},
   "cell_type": "markdown",
   "metadata": {},
   "source": [
    "# `experimental` module"
   ]
  },
  {
   "cell_type": "code",
   "execution_count": null,
   "metadata": {},
   "outputs": [],
   "source": []
  }
 ],
 "metadata": {
  "kernelspec": {
   "display_name": "Python 3.9 ml4gland",
   "language": "python",
   "name": "ml4gland"
  },
  "language_info": {
   "codemirror_mode": {
    "name": "ipython",
    "version": 3
   },
   "file_extension": ".py",
   "mimetype": "text/x-python",
   "name": "python",
   "nbconvert_exporter": "python",
   "pygments_lexer": "ipython3",
   "version": "3.9.16"
  },
  "orig_nbformat": 4
 },
 "nbformat": 4,
 "nbformat_minor": 2
}
