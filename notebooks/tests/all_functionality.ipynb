{
 "cells": [
  {
   "cell_type": "code",
   "execution_count": 69,
   "metadata": {},
   "outputs": [
    {
     "name": "stdout",
     "output_type": "stream",
     "text": [
      "The autoreload extension is already loaded. To reload it, use:\n",
      "  %reload_ext autoreload\n"
     ]
    }
   ],
   "source": [
    "%load_ext autoreload\n",
    "%autoreload 2\n",
    "%aimport seqpro"
   ]
  },
  {
   "cell_type": "code",
   "execution_count": 2,
   "metadata": {},
   "outputs": [],
   "source": [
    "import seqpro as sp\n",
    "import numpy as np"
   ]
  },
  {
   "attachments": {},
   "cell_type": "markdown",
   "metadata": {},
   "source": [
    "# `alphabets` module"
   ]
  },
  {
   "cell_type": "code",
   "execution_count": 90,
   "metadata": {},
   "outputs": [
    {
     "data": {
      "text/plain": [
       "{'DNA': <seqpro._alphabets.NucleotideAlphabet at 0x15552a9f4c70>,\n",
       " 'RNA': <seqpro._alphabets.NucleotideAlphabet at 0x155517661be0>,\n",
       " 'AA': <seqpro._alphabets.AminoAlphabet at 0x155517414e50>}"
      ]
     },
     "execution_count": 90,
     "metadata": {},
     "output_type": "execute_result"
    }
   ],
   "source": [
    "# Currently implemented alphabets\n",
    "sp.ALPHABETS"
   ]
  },
  {
   "cell_type": "code",
   "execution_count": 92,
   "metadata": {},
   "outputs": [],
   "source": [
    "# Grab each available alphabet\n",
    "dna = sp.ALPHABETS[\"DNA\"]\n",
    "rna = sp.ALPHABETS[\"RNA\"]\n",
    "aa = sp.ALPHABETS[\"AA\"]"
   ]
  },
  {
   "cell_type": "code",
   "execution_count": 95,
   "metadata": {},
   "outputs": [
    {
     "name": "stdout",
     "output_type": "stream",
     "text": [
      "4\n",
      "ACGT\n",
      "TGCA\n",
      "[b'A' b'C' b'G' b'T']\n",
      "{'A': 'T', 'C': 'G', 'G': 'C', 'T': 'A'}\n",
      "{b'A': b'T', b'C': b'G', b'G': b'C', b'T': b'A'}\n",
      "{65: 'T', 67: 'G', 71: 'C', 84: 'A'}\n",
      "b'\\x00\\x01\\x02\\x03\\x04\\x05\\x06\\x07\\x08\\t\\n\\x0b\\x0c\\r\\x0e\\x0f\\x10\\x11\\x12\\x13\\x14\\x15\\x16\\x17\\x18\\x19\\x1a\\x1b\\x1c\\x1d\\x1e\\x1f !\"#$%&\\'()*+,-./0123456789:;<=>?@TBGDEFCHIJKLMNOPQRSAUVWXYZ[\\\\]^_`abcdefghijklmnopqrstuvwxyz{|}~\\x7f\\x80\\x81\\x82\\x83\\x84\\x85\\x86\\x87\\x88\\x89\\x8a\\x8b\\x8c\\x8d\\x8e\\x8f\\x90\\x91\\x92\\x93\\x94\\x95\\x96\\x97\\x98\\x99\\x9a\\x9b\\x9c\\x9d\\x9e\\x9f\\xa0\\xa1\\xa2\\xa3\\xa4\\xa5\\xa6\\xa7\\xa8\\xa9\\xaa\\xab\\xac\\xad\\xae\\xaf\\xb0\\xb1\\xb2\\xb3\\xb4\\xb5\\xb6\\xb7\\xb8\\xb9\\xba\\xbb\\xbc\\xbd\\xbe\\xbf\\xc0\\xc1\\xc2\\xc3\\xc4\\xc5\\xc6\\xc7\\xc8\\xc9\\xca\\xcb\\xcc\\xcd\\xce\\xcf\\xd0\\xd1\\xd2\\xd3\\xd4\\xd5\\xd6\\xd7\\xd8\\xd9\\xda\\xdb\\xdc\\xdd\\xde\\xdf\\xe0\\xe1\\xe2\\xe3\\xe4\\xe5\\xe6\\xe7\\xe8\\xe9\\xea\\xeb\\xec\\xed\\xee\\xef\\xf0\\xf1\\xf2\\xf3\\xf4\\xf5\\xf6\\xf7\\xf8\\xf9\\xfa\\xfb\\xfc\\xfd\\xfe\\xff'\n",
      "4\n",
      "ACGU\n",
      "UGCA\n",
      "[b'A' b'C' b'G' b'U']\n",
      "{'A': 'U', 'C': 'G', 'G': 'C', 'U': 'A'}\n",
      "{b'A': b'U', b'C': b'G', b'G': b'C', b'U': b'A'}\n",
      "{65: 'U', 67: 'G', 71: 'C', 85: 'A'}\n",
      "b'\\x00\\x01\\x02\\x03\\x04\\x05\\x06\\x07\\x08\\t\\n\\x0b\\x0c\\r\\x0e\\x0f\\x10\\x11\\x12\\x13\\x14\\x15\\x16\\x17\\x18\\x19\\x1a\\x1b\\x1c\\x1d\\x1e\\x1f !\"#$%&\\'()*+,-./0123456789:;<=>?@UBGDEFCHIJKLMNOPQRSTAVWXYZ[\\\\]^_`abcdefghijklmnopqrstuvwxyz{|}~\\x7f\\x80\\x81\\x82\\x83\\x84\\x85\\x86\\x87\\x88\\x89\\x8a\\x8b\\x8c\\x8d\\x8e\\x8f\\x90\\x91\\x92\\x93\\x94\\x95\\x96\\x97\\x98\\x99\\x9a\\x9b\\x9c\\x9d\\x9e\\x9f\\xa0\\xa1\\xa2\\xa3\\xa4\\xa5\\xa6\\xa7\\xa8\\xa9\\xaa\\xab\\xac\\xad\\xae\\xaf\\xb0\\xb1\\xb2\\xb3\\xb4\\xb5\\xb6\\xb7\\xb8\\xb9\\xba\\xbb\\xbc\\xbd\\xbe\\xbf\\xc0\\xc1\\xc2\\xc3\\xc4\\xc5\\xc6\\xc7\\xc8\\xc9\\xca\\xcb\\xcc\\xcd\\xce\\xcf\\xd0\\xd1\\xd2\\xd3\\xd4\\xd5\\xd6\\xd7\\xd8\\xd9\\xda\\xdb\\xdc\\xdd\\xde\\xdf\\xe0\\xe1\\xe2\\xe3\\xe4\\xe5\\xe6\\xe7\\xe8\\xe9\\xea\\xeb\\xec\\xed\\xee\\xef\\xf0\\xf1\\xf2\\xf3\\xf4\\xf5\\xf6\\xf7\\xf8\\xf9\\xfa\\xfb\\xfc\\xfd\\xfe\\xff'\n"
     ]
    }
   ],
   "source": [
    "# Look at the alphabet properties\n",
    "for alphabet in [dna, rna]:\n",
    "    print(len(alphabet))\n",
    "    print(alphabet.alphabet)\n",
    "    print(alphabet.complement)\n",
    "    print(alphabet.array)\n",
    "    print(alphabet.complement_map)\n",
    "    print(alphabet.complement_map_bytes)\n",
    "    print(alphabet.str_comp_table)\n",
    "    print(alphabet.bytes_comp_table)"
   ]
  },
  {
   "cell_type": "code",
   "execution_count": 105,
   "metadata": {},
   "outputs": [
    {
     "name": "stdout",
     "output_type": "stream",
     "text": [
      "Sequence: TTCAGAGGGTTCGTA\n",
      "Sequence as byte array: [b'T' b'T' b'C' b'A' b'G' b'A' b'G' b'G' b'G' b'T' b'T' b'C' b'G' b'T'\n",
      " b'A']\n",
      "Sequence as byte string: b'TTCAGAGGGTTCGTA'\n",
      "Sequence as one-hot encoded array: [[0 0 0 1]\n",
      " [0 0 0 1]\n",
      " [0 1 0 0]\n",
      " [1 0 0 0]\n",
      " [0 0 1 0]\n",
      " [1 0 0 0]\n",
      " [0 0 1 0]\n",
      " [0 0 1 0]\n",
      " [0 0 1 0]\n",
      " [0 0 0 1]\n",
      " [0 0 0 1]\n",
      " [0 1 0 0]\n",
      " [0 0 1 0]\n",
      " [0 0 0 1]\n",
      " [1 0 0 0]]\n",
      "Sequence as decoded byte array: [b'T' b'T' b'C' b'A' b'G' b'A' b'G' b'G' b'G' b'T' b'T' b'C' b'G' b'T'\n",
      " b'A']\n",
      "Sequence as decoded byte string: b'TTCAGAGGGTTCGTA'\n",
      "Sequence as complement byte array: [b'A' b'A' b'G' b'T' b'C' b'T' b'C' b'C' b'C' b'A' b'A' b'G' b'C' b'A'\n",
      " b'T']\n",
      "Sequence as reverse complement byte array: [b'T' b'A' b'C' b'G' b'A' b'A' b'C' b'C' b'C' b'T' b'C' b'T' b'G' b'A'\n",
      " b'A']\n",
      "Sequence as reverse complement string: TACGAACCCTCTGAA\n",
      "Sequence as reverse complement byte string: b'TACGAACCCTCTGAA'\n"
     ]
    }
   ],
   "source": [
    "# Take a look at all you can do with the alphabet\n",
    "seq = sp.random_seq(15, alphabet=[\"A\", \"G\", \"C\", \"T\"])\n",
    "seq_bytes = sp.cast_seqs(seq)\n",
    "seq_bstring = seq.encode()\n",
    "ohe_seq = dna.bytes_to_ohe(seq_bytes)\n",
    "decoded_seq = dna.ohe_to_bytes(ohe_seq)\n",
    "decoded_seq_bstring = decoded_seq.tobytes()\n",
    "complement_seq = dna.complement_bytes(seq_bytes)\n",
    "rc_comp_seq = dna.rev_comp_byte(seq_bytes, length_axis=-1)\n",
    "rc_comp_seq_string = dna.rev_comp_string(seq)\n",
    "rc_comp_seq_bstring = dna.rev_comp_bstring(seq_bstring)\n",
    "print(f\"Sequence: {seq}\")\n",
    "print(f\"Sequence as byte array: {seq_bytes}\")\n",
    "print(f\"Sequence as byte string: {seq_bstring}\")\n",
    "print(f\"Sequence as one-hot encoded array: {ohe_seq}\")\n",
    "print(f\"Sequence as decoded byte array: {decoded_seq}\")\n",
    "print(f\"Sequence as decoded byte string: {decoded_seq_bstring}\")\n",
    "print(f\"Sequence as complement byte array: {complement_seq}\")\n",
    "print(f\"Sequence as reverse complement byte array: {rc_comp_seq}\")\n",
    "print(f\"Sequence as reverse complement string: {rc_comp_seq_string}\")\n",
    "print(f\"Sequence as reverse complement byte string: {rc_comp_seq_bstring}\")"
   ]
  },
  {
   "cell_type": "code",
   "execution_count": 108,
   "metadata": {},
   "outputs": [
    {
     "data": {
      "text/plain": [
       "array([b'T', b'A', b'C', b'G', b'A', b'A', b'C', b'C', b'C', b'T', b'C',\n",
       "       b'T', b'G', b'A', b'A'], dtype='|S1')"
      ]
     },
     "execution_count": 108,
     "metadata": {},
     "output_type": "execute_result"
    }
   ],
   "source": [
    "# Test the reverse complement function\n",
    "rc_seq = dna.reverse_complement(seq)\n",
    "rc_ohe_seq = dna.reverse_complement(ohe_seq, length_axis=0, ohe_axis=1)\n",
    "rc_rc_ohe_seq = dna.reverse_complement(rc_ohe_seq, length_axis=0, ohe_axis=1)\n",
    "np.all(rc_rc_ohe_seq == ohe_seq)"
   ]
  },
  {
   "attachments": {},
   "cell_type": "markdown",
   "metadata": {},
   "source": [
    "# `utils` module"
   ]
  },
  {
   "cell_type": "code",
   "execution_count": 29,
   "metadata": {},
   "outputs": [
    {
     "data": {
      "text/plain": [
       "(10, 10, 10, 30)"
      ]
     },
     "execution_count": 29,
     "metadata": {},
     "output_type": "execute_result"
    }
   ],
   "source": [
    "# Generate some random sequences \n",
    "test_seqs = sp.random_seqs(10, 15, alphabet=[\"A\", \"g\", \"C\", \"T\"])\n",
    "test_seq = test_seqs[0]\n",
    "\n",
    "# Add seqs with only Ns\n",
    "test_seqs_with_only_N = sp.random_seqs(10, 15, alphabet=[\"N\"])\n",
    "\n",
    "# Add seqs with Ns \n",
    "test_seqs_with_N = sp.random_seqs(10, 15, alphabet=[\"A\", \"G\", \"C\", \"T\", \"N\"])\n",
    "\n",
    "# Append some sequences with Ns\n",
    "all_test_seqs = np.concatenate((test_seqs, test_seqs_with_N, test_seqs_with_only_N))\n",
    "\n",
    "len(test_seqs), len(test_seqs_with_N), len(test_seqs_with_only_N), len(all_test_seqs)"
   ]
  },
  {
   "cell_type": "code",
   "execution_count": 32,
   "metadata": {},
   "outputs": [
    {
     "data": {
      "text/plain": [
       "((15,), (10, 15), (10, 15), (10, 15), (30, 15))"
      ]
     },
     "execution_count": 32,
     "metadata": {},
     "output_type": "execute_result"
    }
   ],
   "source": [
    "# Cast sequences\n",
    "casted_test_seq = sp.cast_seqs(test_seq)\n",
    "casted_test_seqs = sp.cast_seqs(test_seqs)\n",
    "casted_test_seqs_with_N = sp.cast_seqs(test_seqs_with_N)\n",
    "casted_test_seqs_with_only_N = sp.cast_seqs(test_seqs_with_only_N)\n",
    "casted_all_test_seqs = sp.cast_seqs(all_test_seqs)\n",
    "casted_test_seq.shape, casted_test_seqs.shape, casted_test_seqs_with_N.shape, casted_test_seqs_with_only_N.shape, casted_all_test_seqs.shape"
   ]
  },
  {
   "attachments": {},
   "cell_type": "markdown",
   "metadata": {},
   "source": [
    "# `cleaners` module"
   ]
  },
  {
   "cell_type": "code",
   "execution_count": 20,
   "metadata": {},
   "outputs": [],
   "source": [
    "# remove seqs with only Ns\n",
    "all_test_seqs_no_N = sp.remove_only_N_seqs(all_test_seqs)\n",
    "\n",
    "# Check that the sequences with only Ns have been removed\n",
    "assert len(all_test_seqs_no_N) == 20"
   ]
  },
  {
   "cell_type": "code",
   "execution_count": 24,
   "metadata": {},
   "outputs": [],
   "source": [
    "# Remove seqs with any Ns\n",
    "all_test_seqs_removed_N = sp.remove_N_seqs(all_test_seqs)\n",
    "\n",
    "# Check that the sequences with Ns have been removed\n",
    "assert len(all_test_seqs_removed_N) < 20"
   ]
  },
  {
   "cell_type": "code",
   "execution_count": 28,
   "metadata": {},
   "outputs": [],
   "source": [
    "# Sanitize sequences\n",
    "test_seq_sanitized = sp.sanitize_seq(test_seq)\n",
    "all_test_seqs_removed_N_sanitized = sp.sanitize_seqs(all_test_seqs_removed_N)\n",
    "\n",
    "# Check that the sequences have been sanitized, every letter is A, G, C, or T\n",
    "assert all([x in [\"A\", \"G\", \"C\", \"T\"] for x in test_seq_sanitized])\n",
    "assert all([all([x in [\"A\", \"G\", \"C\", \"T\"] for x in seq]) for seq in all_test_seqs_removed_N_sanitized])"
   ]
  },
  {
   "attachments": {},
   "cell_type": "markdown",
   "metadata": {},
   "source": [
    "# `encoders` module"
   ]
  },
  {
   "cell_type": "code",
   "execution_count": 6,
   "metadata": {},
   "outputs": [],
   "source": [
    "# Ascii encode sequences\n",
    "ascii_seq = seqpro.ascii_encode_seq(test_seq)\n",
    "ascii_seqs = seqpro.ascii_encode_seqs(test_seqs)\n",
    "\n",
    "# Ascii decode sequences\n",
    "decoded_seq = seqpro.ascii_decode_seq(ascii_seq)\n",
    "decoded_seqs = seqpro.ascii_decode_seqs(ascii_seqs)\n",
    "\n",
    "# Check that the decoded sequences are the same as the original sequences\n",
    "assert np.all(test_seqs == decoded_seqs)"
   ]
  },
  {
   "cell_type": "code",
   "execution_count": 7,
   "metadata": {},
   "outputs": [
    {
     "data": {
      "application/vnd.jupyter.widget-view+json": {
       "model_id": "f6e2f4cbe7c84412bcc0e1eb5d8b7902",
       "version_major": 2,
       "version_minor": 0
      },
      "text/plain": [
       "One-hot encoding sequences:   0%|          | 0/10 [00:00<?, ?it/s]"
      ]
     },
     "metadata": {},
     "output_type": "display_data"
    },
    {
     "data": {
      "application/vnd.jupyter.widget-view+json": {
       "model_id": "c94ced781de7476985a719debfa08fe1",
       "version_major": 2,
       "version_minor": 0
      },
      "text/plain": [
       "Decoding sequences:   0%|          | 0/10 [00:00<?, ?it/s]"
      ]
     },
     "metadata": {},
     "output_type": "display_data"
    }
   ],
   "source": [
    "# One-hot encode sequences\n",
    "ohe_seq = seqpro.ohe_seq(test_seq)\n",
    "ohe_seqs = seqpro.ohe_seqs(test_seqs)\n",
    "\n",
    "# Decode sequences\n",
    "decoded_seq = seqpro.decode_seq(ohe_seq)\n",
    "decoded_seqs = seqpro.decode_seqs(ohe_seqs)\n",
    "\n",
    "# Check that the decoded sequences are the same as the original sequences\n",
    "assert np.all(test_seqs == decoded_seqs)"
   ]
  },
  {
   "attachments": {},
   "cell_type": "markdown",
   "metadata": {},
   "source": [
    "# `modifiers` module"
   ]
  },
  {
   "cell_type": "code",
   "execution_count": 13,
   "metadata": {},
   "outputs": [
    {
     "data": {
      "application/vnd.jupyter.widget-view+json": {
       "model_id": "d670bae9c6984265ba5348ed59cb4b94",
       "version_major": 2,
       "version_minor": 0
      },
      "text/plain": [
       "Reverse complementing sequences:   0%|          | 0/10 [00:00<?, ?it/s]"
      ]
     },
     "metadata": {},
     "output_type": "display_data"
    },
    {
     "data": {
      "application/vnd.jupyter.widget-view+json": {
       "model_id": "e2f3be8961134bc5bfe64d0871cc5e5d",
       "version_major": 2,
       "version_minor": 0
      },
      "text/plain": [
       "Reverse complementing sequences:   0%|          | 0/10 [00:00<?, ?it/s]"
      ]
     },
     "metadata": {},
     "output_type": "display_data"
    }
   ],
   "source": [
    "# Reverse complement sequences\n",
    "revcomp_seq = seqpro.reverse_complement_seq(test_seq)\n",
    "revcomp_seqs = seqpro.reverse_complement_seqs(test_seqs)\n",
    "\n",
    "# Reverse complement sequences back to original sequences\n",
    "revcomp_revcomp_seq = seqpro.reverse_complement_seq(revcomp_seq)\n",
    "revcomp_revcomp_seqs = seqpro.reverse_complement_seqs(revcomp_seqs)\n",
    "\n",
    "# Check that the reverse complemented sequences are the same as the original sequences\n",
    "assert np.all(test_seqs == revcomp_revcomp_seqs)"
   ]
  },
  {
   "cell_type": "code",
   "execution_count": 16,
   "metadata": {},
   "outputs": [],
   "source": [
    "# Shuffle sequences\n",
    "shuffled_seq = seqpro.shuffle_seq(test_seq)\n",
    "shuffled_seqs = seqpro.shuffle_seqs(test_seqs)\n",
    "\n",
    "# Check that the shuffled sequences are not the same as the original sequences\n",
    "assert not np.all(test_seqs == shuffled_seqs)"
   ]
  },
  {
   "cell_type": "code",
   "execution_count": 17,
   "metadata": {},
   "outputs": [],
   "source": [
    "# Dinucleotide shuffle sequences\n",
    "dinuc_shuffled_seq = seqpro.dinuc_shuffle_seq(test_seq)\n",
    "dinuc_shuffled_seqs = seqpro.dinuc_shuffle_seqs(test_seqs)\n",
    "\n",
    "# Check that the dinucleotide shuffled sequences are not the same as the original sequences\n",
    "assert not np.all(test_seqs == dinuc_shuffled_seqs)"
   ]
  },
  {
   "attachments": {},
   "cell_type": "markdown",
   "metadata": {},
   "source": [
    "# `analyzers` module"
   ]
  },
  {
   "cell_type": "code",
   "execution_count": 22,
   "metadata": {},
   "outputs": [],
   "source": [
    "# Get length of sequences\n",
    "lens = seqpro.len_seqs(test_seqs)\n",
    "\n",
    "# Check that the length of the sequences is 1000\n",
    "assert np.all(lens == 1000)"
   ]
  },
  {
   "cell_type": "code",
   "execution_count": 24,
   "metadata": {},
   "outputs": [],
   "source": [
    "# Get GC content of sequences\n",
    "gc_content = seqpro.gc_content_seq(test_seqs[0])\n",
    "\n",
    "# Check that is the GC content of the sequences is between 0 and 1\n",
    "assert np.all((gc_content >= 0) & (gc_content <= 1))\n",
    "\n",
    "# Check that is the GC content is within 0.1 of 0.5\n",
    "assert np.all(np.abs(gc_content - 0.5) < 0.1)\n",
    "\n",
    "# Get GC content of sequences\n",
    "gc_contents = seqpro.gc_content_seqs(test_seqs)\n",
    "\n",
    "# Check that is the GC content of the sequences is between 0 and 1\n",
    "assert np.all((gc_contents >= 0) & (gc_contents <= 1))\n",
    "\n",
    "# Check that is the GC content is within 0.1 of 0.5\n",
    "assert np.all(np.abs(gc_contents - 0.5) < 0.1)"
   ]
  },
  {
   "cell_type": "code",
   "execution_count": 31,
   "metadata": {},
   "outputs": [],
   "source": [
    "# Get nucleotide content of sequence\n",
    "nuc_content = seqpro.nucleotide_content_seq(test_seqs[0])\n",
    "\n",
    "# Check that is the nucleotide content of the sequences is between 0 and 1\n",
    "assert np.all((nuc_content >= 0) & (nuc_content <= 1))\n",
    "\n",
    "# Check that is the nucleotide content is within 0.1 of 0.25\n",
    "assert np.all(np.abs(nuc_content - 0.25) < 0.1)\n",
    "\n",
    "# Get nucleotide content of sequences\n",
    "nuc_contents = seqpro.nucleotide_content_seqs(test_seqs)\n",
    "\n",
    "# Check that is the nucleotide content of the sequences is between 0 and 1\n",
    "assert np.all((nuc_contents >= 0) & (nuc_contents <= 1))\n",
    "\n",
    "# Check that is the nucleotide content is within 0.1 of 0.25\n",
    "assert np.all(np.abs(nuc_contents - 0.25) < 0.1)"
   ]
  },
  {
   "cell_type": "code",
   "execution_count": 36,
   "metadata": {},
   "outputs": [],
   "source": [
    "# Get kmer counts of sequences\n",
    "kmer_counts = seqpro.count_kmers_seq(test_seqs[0], 10)"
   ]
  },
  {
   "attachments": {},
   "cell_type": "markdown",
   "metadata": {},
   "source": [
    "# `experimental` module"
   ]
  },
  {
   "cell_type": "code",
   "execution_count": null,
   "metadata": {},
   "outputs": [],
   "source": []
  }
 ],
 "metadata": {
  "kernelspec": {
   "display_name": "Python 3.9 ml4gland",
   "language": "python",
   "name": "ml4gland"
  },
  "orig_nbformat": 4
 },
 "nbformat": 4,
 "nbformat_minor": 2
}
